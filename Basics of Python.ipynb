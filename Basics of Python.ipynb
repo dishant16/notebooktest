{
 "cells": [
  {
   "cell_type": "markdown",
   "id": "897b0284",
   "metadata": {},
   "source": [
    "<center><h1 style=\"font-size:40px \">Basics Of Python</h1></center>"
   ]
  },
  {
   "cell_type": "markdown",
   "id": "ee129b81",
   "metadata": {},
   "source": [
    "<pre>\n",
    "\n",
    "</pre>"
   ]
  },
  {
   "cell_type": "markdown",
   "id": "f6166daa",
   "metadata": {},
   "source": [
    "# Python Introduction"
   ]
  },
  {
   "cell_type": "markdown",
   "id": "62460db8",
   "metadata": {},
   "source": [
    "Python is a computer programming language often used to build websites and software, automate tasks, and conduct data analysis. Python is a general purpose language, meaning it can be used to create a variety of different programs and isn't specialized for any specific problems."
   ]
  },
  {
   "cell_type": "markdown",
   "id": "e253c183",
   "metadata": {},
   "source": [
    "Python works on different platforms (Windows, Mac, Linux, Raspberry Pi, etc).\n",
    "Python has a simple syntax similar to the English language.\n",
    "Python has syntax that allows developers to write programs with fewer lines than some other programming languages.\n",
    "Python runs on an interpreter system, meaning that code can be executed as soon as it is written. This means that prototyping can be very quick.\n",
    "Python can be treated in a procedural way, an object-oriented way or a functional way."
   ]
  },
  {
   "cell_type": "markdown",
   "id": "ea02c77c",
   "metadata": {},
   "source": [
    "# Getting Started"
   ]
  },
  {
   "cell_type": "markdown",
   "id": "fe6e61ef",
   "metadata": {},
   "source": [
    "### Modules"
   ]
  },
  {
   "cell_type": "markdown",
   "id": "513da9d6",
   "metadata": {},
   "source": [
    "Modules contains the methods/predefine functions that can be imported and be used. we use package pip to install the modules.\n"
   ]
  },
  {
   "cell_type": "markdown",
   "id": "eadc192f",
   "metadata": {},
   "source": [
    "There are mainly Two types of modules:"
   ]
  },
  {
   "cell_type": "markdown",
   "id": "191f784e",
   "metadata": {},
   "source": [
    "- Built in Modules \n",
    "\n",
    "- External Modules"
   ]
  },
  {
   "cell_type": "markdown",
   "id": "0e2a3eda",
   "metadata": {},
   "source": [
    "Built in Modules are the modules that we get with the python.We don't need to install them externally."
   ]
  },
  {
   "cell_type": "code",
   "execution_count": 4,
   "id": "32a721be",
   "metadata": {},
   "outputs": [],
   "source": [
    "import os\n",
    "import random\n",
    "import math,time,sys \n",
    "#build in mudules"
   ]
  },
  {
   "cell_type": "markdown",
   "id": "fe70a791",
   "metadata": {},
   "source": [
    "External Modules are the modules that we install or import with the help of pip"
   ]
  },
  {
   "cell_type": "code",
   "execution_count": 8,
   "id": "adae9ebc",
   "metadata": {},
   "outputs": [],
   "source": [
    "import numpy as np\n",
    "import pandas as pd\n",
    "import matplotlib as mt\n",
    "#external moduls"
   ]
  },
  {
   "cell_type": "markdown",
   "id": "3901199b",
   "metadata": {},
   "source": [
    "  "
   ]
  },
  {
   "cell_type": "markdown",
   "id": "109880b9",
   "metadata": {},
   "source": [
    "# Syntax"
   ]
  },
  {
   "cell_type": "markdown",
   "id": "58525b02",
   "metadata": {},
   "source": [
    "### Indentation"
   ]
  },
  {
   "cell_type": "markdown",
   "id": "fe249bec",
   "metadata": {},
   "source": [
    "- Indentation refers to the spaces at the beginning of a code line.\n",
    "- Where in other programming languages the indentation in code is for readability only, the indentation in Python is very important.\n",
    "- Python uses indentation to indicate a block of code."
   ]
  },
  {
   "cell_type": "code",
   "execution_count": 13,
   "id": "a11b115a",
   "metadata": {},
   "outputs": [
    {
     "name": "stdout",
     "output_type": "stream",
     "text": [
      "True\n"
     ]
    }
   ],
   "source": [
    "#Example\n",
    "a,b=5,7\n",
    "if a<b:\n",
    "    print(True)"
   ]
  },
  {
   "cell_type": "code",
   "execution_count": 14,
   "id": "81b0110c",
   "metadata": {},
   "outputs": [
    {
     "ename": "IndentationError",
     "evalue": "expected an indented block (Temp/ipykernel_2944/1502931008.py, line 4)",
     "output_type": "error",
     "traceback": [
      "\u001b[1;36m  File \u001b[1;32m\"C:\\Users\\Dishant\\AppData\\Local\\Temp/ipykernel_2944/1502931008.py\"\u001b[1;36m, line \u001b[1;32m4\u001b[0m\n\u001b[1;33m    print(True)\u001b[0m\n\u001b[1;37m    ^\u001b[0m\n\u001b[1;31mIndentationError\u001b[0m\u001b[1;31m:\u001b[0m expected an indented block\n"
     ]
    }
   ],
   "source": [
    "#Example\n",
    "a,b=5,7\n",
    "if a<b:\n",
    "print(True)"
   ]
  },
  {
   "cell_type": "markdown",
   "id": "c5524d9e",
   "metadata": {},
   "source": [
    "# Comments"
   ]
  },
  {
   "cell_type": "markdown",
   "id": "606f6ff0",
   "metadata": {},
   "source": [
    "There are two type of comments:\n",
    "   - single line\n",
    "   - multiple line\n",
    "for single line comment # is use.\n",
    "\n",
    "for multiline comment \"\"\"  \"\"\" is use\n"
   ]
  },
  {
   "cell_type": "code",
   "execution_count": 15,
   "id": "0e5ffedf",
   "metadata": {},
   "outputs": [],
   "source": [
    "#this is signle line comment"
   ]
  },
  {
   "cell_type": "code",
   "execution_count": 24,
   "id": "abce790d",
   "metadata": {},
   "outputs": [
    {
     "name": "stdout",
     "output_type": "stream",
     "text": [
      "Hello Comment\n"
     ]
    }
   ],
   "source": [
    "'''\n",
    "this is multi line\n",
    "comment\n",
    "example\n",
    "'''\n",
    "print(\"Hello Comment\")"
   ]
  },
  {
   "cell_type": "markdown",
   "id": "82a7dfa3",
   "metadata": {},
   "source": [
    "# Variables"
   ]
  },
  {
   "cell_type": "markdown",
   "id": "663d4f11",
   "metadata": {},
   "source": [
    "### Creating Variables"
   ]
  },
  {
   "cell_type": "markdown",
   "id": "1d2769be",
   "metadata": {},
   "source": [
    "In Python there is no declaration for variable.A variable is created the moment you first assign a value to it."
   ]
  },
  {
   "cell_type": "code",
   "execution_count": 26,
   "id": "8903bf6c",
   "metadata": {},
   "outputs": [
    {
     "name": "stdout",
     "output_type": "stream",
     "text": [
      "16\n",
      "John\n"
     ]
    }
   ],
   "source": [
    "d = 16\n",
    "e = \"John\"\n",
    "print(d)\n",
    "print(e)"
   ]
  },
  {
   "cell_type": "markdown",
   "id": "8982ceba",
   "metadata": {},
   "source": [
    "Variables do not need to be declared with any particular type, and can even change type after they have been set."
   ]
  },
  {
   "cell_type": "code",
   "execution_count": 28,
   "id": "502f6b2b",
   "metadata": {},
   "outputs": [
    {
     "name": "stdout",
     "output_type": "stream",
     "text": [
      "Python\n"
     ]
    }
   ],
   "source": [
    "d = 16       # x is of type int\n",
    "d = \"Python\" # x is now of type str\n",
    "print(d)"
   ]
  },
  {
   "cell_type": "markdown",
   "id": "ec030c1f",
   "metadata": {},
   "source": [
    "### Casting"
   ]
  },
  {
   "cell_type": "markdown",
   "id": "e13d60de",
   "metadata": {},
   "source": [
    "If we want to specify the data type of a variable, this can be done with casting."
   ]
  },
  {
   "cell_type": "code",
   "execution_count": 29,
   "id": "9056ff07",
   "metadata": {},
   "outputs": [],
   "source": [
    "a = str(16)    # a will be '16'\n",
    "b = int(6)    # b will be 6\n",
    "c = float(1)  # c will be 1.0"
   ]
  },
  {
   "cell_type": "markdown",
   "id": "e935d102",
   "metadata": {},
   "source": [
    "### Get the Type"
   ]
  },
  {
   "cell_type": "markdown",
   "id": "5d1bc81b",
   "metadata": {},
   "source": [
    "We can get the data type of a variable with the type() function."
   ]
  },
  {
   "cell_type": "code",
   "execution_count": 30,
   "id": "a3e2957e",
   "metadata": {},
   "outputs": [
    {
     "name": "stdout",
     "output_type": "stream",
     "text": [
      "<class 'int'>\n",
      "<class 'str'>\n"
     ]
    }
   ],
   "source": [
    "a = 4\n",
    "b = \"Jack\"\n",
    "print(type(a))\n",
    "print(type(b))"
   ]
  },
  {
   "cell_type": "markdown",
   "id": "0476964c",
   "metadata": {},
   "source": [
    "String variables can be declared either by using single or double quotes.<br>\n",
    "Variable names are case-sensitive."
   ]
  },
  {
   "cell_type": "markdown",
   "id": "73c53efd",
   "metadata": {},
   "source": [
    "### Variable Names"
   ]
  },
  {
   "cell_type": "markdown",
   "id": "883184da",
   "metadata": {},
   "source": [
    "A variable can have a short name (like x and y) or a more descriptive name (age, carname, total_volume). Rules for Python variables:<br>\n",
    "- A variable name must start with a letter or the underscore character\n",
    "- A variable name cannot start with a number\n",
    "- A variable name can only contain alpha-numeric characters and underscores (A-z, 0-9, and _ )\n",
    "- Variable names are case-sensitive (age, Age and AGE are three different variables)"
   ]
  },
  {
   "cell_type": "markdown",
   "id": "a3e1a65a",
   "metadata": {},
   "source": [
    "<b>Example</b><br>\n",
    "Legal variable names:"
   ]
  },
  {
   "cell_type": "code",
   "execution_count": 31,
   "id": "3187e7f8",
   "metadata": {},
   "outputs": [],
   "source": [
    "myvar = \"Jack\"\n",
    "my_var = \"Jack\"\n",
    "_my_var = \"Jack\"\n",
    "myVar = \"Jack\"\n",
    "MYVAR = \"Jack\"\n",
    "myvar2 = \"Jack\""
   ]
  },
  {
   "cell_type": "markdown",
   "id": "94bdec55",
   "metadata": {},
   "source": [
    "### Many Values to Multiple Variables"
   ]
  },
  {
   "cell_type": "markdown",
   "id": "8ed9db9b",
   "metadata": {},
   "source": [
    "Python allows you to assign values to multiple variables in one line:<br>\n",
    "\n",
    "<b>Example:</b>"
   ]
  },
  {
   "cell_type": "code",
   "execution_count": 32,
   "id": "eea82cd7",
   "metadata": {},
   "outputs": [
    {
     "name": "stdout",
     "output_type": "stream",
     "text": [
      "Jack\n",
      "Anna\n",
      "Cherry\n"
     ]
    }
   ],
   "source": [
    "a, b, c = \"Jack\", \"Anna\", \"Cherry\"\n",
    "print(a)\n",
    "print(b)\n",
    "print(c)"
   ]
  },
  {
   "cell_type": "markdown",
   "id": "f3f202a0",
   "metadata": {},
   "source": [
    "### One Value to Multiple Variables "
   ]
  },
  {
   "cell_type": "markdown",
   "id": "c00b9b8f",
   "metadata": {},
   "source": [
    "And you can assign the same value to multiple variables in one line:<br>\n",
    "\n",
    "<b>Example</b>"
   ]
  },
  {
   "cell_type": "code",
   "execution_count": 33,
   "id": "3c464c95",
   "metadata": {},
   "outputs": [
    {
     "name": "stdout",
     "output_type": "stream",
     "text": [
      "Anna\n",
      "Anna\n",
      "Anna\n"
     ]
    }
   ],
   "source": [
    "a=b=c= \"Anna\"\n",
    "print(a)\n",
    "print(b)\n",
    "print(c)"
   ]
  },
  {
   "cell_type": "markdown",
   "id": "acbc6a30",
   "metadata": {},
   "source": [
    "### Unpack a Collection"
   ]
  },
  {
   "cell_type": "markdown",
   "id": "f9bdcfde",
   "metadata": {},
   "source": [
    "If you have a collection of values in a list, tuple etc. Python allows you extract the values into variables. This is called unpacking."
   ]
  },
  {
   "cell_type": "code",
   "execution_count": 34,
   "id": "5e3dcca4",
   "metadata": {},
   "outputs": [
    {
     "name": "stdout",
     "output_type": "stream",
     "text": [
      "apple\n",
      "banana\n",
      "cherry\n"
     ]
    }
   ],
   "source": [
    "#Example\n",
    "#Unpack a list:\n",
    "\n",
    "fruits = [\"apple\", \"banana\", \"cherry\"]\n",
    "a, b, c = fruits\n",
    "print(a)\n",
    "print(b)\n",
    "print(c)"
   ]
  },
  {
   "cell_type": "markdown",
   "id": "af8c6366",
   "metadata": {},
   "source": [
    "#  Strings"
   ]
  },
  {
   "cell_type": "markdown",
   "id": "ab651be2",
   "metadata": {},
   "source": [
    "String is a data type in Python . It is a sequence of characters enclosed in single , double or triple quotes! We can write a string in three ways."
   ]
  },
  {
   "cell_type": "code",
   "execution_count": 35,
   "id": "d4ca65cc",
   "metadata": {},
   "outputs": [
    {
     "name": "stdout",
     "output_type": "stream",
     "text": [
      "<class 'str'>\n"
     ]
    }
   ],
   "source": [
    "a='this is a string'\n",
    "a=\" this is also a string\"\n",
    "a= '''This is also a string'''\n",
    "print(type(a))"
   ]
  },
  {
   "cell_type": "markdown",
   "id": "cb6e3c87",
   "metadata": {},
   "source": [
    "## Slicing"
   ]
  },
  {
   "cell_type": "markdown",
   "id": "2ae0bb8a",
   "metadata": {},
   "source": [
    "If we want to get a part of the string. We can get it with the help of slicing!<br>\n",
    "We can return a range of characters by using the slice syntax.<br>\n",
    "Specify the start index and the end index, separated by a colon, to return a part of the string."
   ]
  },
  {
   "cell_type": "markdown",
   "id": "a1d6909b",
   "metadata": {},
   "source": [
    "Example<br>\n",
    "Get the characters from position 10 to position 16 (not included):"
   ]
  },
  {
   "cell_type": "code",
   "execution_count": 42,
   "id": "056654f4",
   "metadata": {},
   "outputs": [
    {
     "name": "stdout",
     "output_type": "stream",
     "text": [
      "Python\n"
     ]
    }
   ],
   "source": [
    "a=\"Basics of Python\"\n",
    "# if we want to print only Python in that string:\n",
    "print(a[10:16])"
   ]
  },
  {
   "cell_type": "markdown",
   "id": "c3d47d8b",
   "metadata": {},
   "source": [
    "### Slice From the Start"
   ]
  },
  {
   "cell_type": "markdown",
   "id": "ac9e15a9",
   "metadata": {},
   "source": [
    "By leaving out the start index, the range will start at the first character:<Br>\n",
    "\n",
    "Example<br>\n",
    "Get the characters from the start to position 7 (not included):"
   ]
  },
  {
   "cell_type": "code",
   "execution_count": 43,
   "id": "18cdb6ff",
   "metadata": {},
   "outputs": [
    {
     "name": "stdout",
     "output_type": "stream",
     "text": [
      "Basics \n"
     ]
    }
   ],
   "source": [
    "print(a[:7])"
   ]
  },
  {
   "cell_type": "markdown",
   "id": "d4b6a56d",
   "metadata": {},
   "source": [
    "### Slice To the End"
   ]
  },
  {
   "cell_type": "markdown",
   "id": "2f38e770",
   "metadata": {},
   "source": [
    "By leaving out the end index, the range will go to the end:<br>\n",
    "\n",
    "Example<br>\n",
    "Get the characters from position 2, and all the way to the end:"
   ]
  },
  {
   "cell_type": "code",
   "execution_count": 44,
   "id": "a92d5af4",
   "metadata": {},
   "outputs": [
    {
     "name": "stdout",
     "output_type": "stream",
     "text": [
      " Python\n"
     ]
    }
   ],
   "source": [
    "print(a[9:])"
   ]
  },
  {
   "cell_type": "markdown",
   "id": "1863aad0",
   "metadata": {},
   "source": [
    "### Negative Indexing"
   ]
  },
  {
   "cell_type": "markdown",
   "id": "43533bf7",
   "metadata": {},
   "source": [
    "Use negative indexes to start the slice from the end of the string:"
   ]
  },
  {
   "cell_type": "code",
   "execution_count": 51,
   "id": "d281c51c",
   "metadata": {},
   "outputs": [
    {
     "name": "stdout",
     "output_type": "stream",
     "text": [
      "Python\n"
     ]
    }
   ],
   "source": [
    "print(a[-6:])"
   ]
  },
  {
   "cell_type": "markdown",
   "id": "48a5a03a",
   "metadata": {},
   "source": [
    "### skip a part"
   ]
  },
  {
   "cell_type": "code",
   "execution_count": 60,
   "id": "1071b3ac",
   "metadata": {},
   "outputs": [
    {
     "name": "stdout",
     "output_type": "stream",
     "text": [
      "Bsc \n"
     ]
    }
   ],
   "source": [
    "# if we want to skip a part\n",
    "print(a[0:8:2])"
   ]
  },
  {
   "cell_type": "markdown",
   "id": "985cf105",
   "metadata": {},
   "source": [
    "## Modify Strings"
   ]
  },
  {
   "cell_type": "markdown",
   "id": "36aac7db",
   "metadata": {},
   "source": [
    "Python has a set of built-in methods that you can use on strings."
   ]
  },
  {
   "cell_type": "markdown",
   "id": "bd2d95ef",
   "metadata": {},
   "source": [
    "### Upper Case"
   ]
  },
  {
   "cell_type": "markdown",
   "id": "99a3452d",
   "metadata": {},
   "source": [
    "<b>Example</b><br>\n",
    "The upper() method returns the string in upper case:"
   ]
  },
  {
   "cell_type": "code",
   "execution_count": 61,
   "id": "e0e05d5e",
   "metadata": {},
   "outputs": [
    {
     "name": "stdout",
     "output_type": "stream",
     "text": [
      "BASICS OF PYTHON\n"
     ]
    }
   ],
   "source": [
    "a=\"Basics of Python\"\n",
    "print(a.upper())"
   ]
  },
  {
   "cell_type": "markdown",
   "id": "24ba4650",
   "metadata": {},
   "source": [
    "### Lower Case"
   ]
  },
  {
   "cell_type": "markdown",
   "id": "f63a24bd",
   "metadata": {},
   "source": [
    "<b>Example</b><br>\n",
    "The lower() method returns the string in lower case:"
   ]
  },
  {
   "cell_type": "code",
   "execution_count": 65,
   "id": "444ac72d",
   "metadata": {},
   "outputs": [
    {
     "name": "stdout",
     "output_type": "stream",
     "text": [
      "basics of python\n"
     ]
    }
   ],
   "source": [
    "print(a.lower())"
   ]
  },
  {
   "cell_type": "markdown",
   "id": "8ab13e47",
   "metadata": {},
   "source": [
    "### Remove Whitespace"
   ]
  },
  {
   "cell_type": "markdown",
   "id": "3b9d70b5",
   "metadata": {},
   "source": [
    "Whitespace is the space before and/or after the actual text, and very often you want to remove this space."
   ]
  },
  {
   "cell_type": "markdown",
   "id": "8be98db5",
   "metadata": {},
   "source": [
    "<b>Example</b><br>\n",
    "The strip() method removes any whitespace from the beginning or the end:"
   ]
  },
  {
   "cell_type": "code",
   "execution_count": 66,
   "id": "9f228761",
   "metadata": {},
   "outputs": [
    {
     "name": "stdout",
     "output_type": "stream",
     "text": [
      "Basics of Python\n"
     ]
    }
   ],
   "source": [
    "a=\" Basics of Python \"\n",
    "print(a.strip())"
   ]
  },
  {
   "cell_type": "markdown",
   "id": "32fdcece",
   "metadata": {},
   "source": [
    "### Replace String"
   ]
  },
  {
   "cell_type": "markdown",
   "id": "cce23f95",
   "metadata": {},
   "source": [
    "<b>Example</b><br>\n",
    "The replace() method replaces a string with another string:"
   ]
  },
  {
   "cell_type": "code",
   "execution_count": 67,
   "id": "5995c1a7",
   "metadata": {},
   "outputs": [
    {
     "name": "stdout",
     "output_type": "stream",
     "text": [
      "Dasics of Python\n"
     ]
    }
   ],
   "source": [
    "a=\"Basics of Python\"\n",
    "print(a.replace(\"B\", \"D\"))"
   ]
  },
  {
   "cell_type": "markdown",
   "id": "ecd1e699",
   "metadata": {},
   "source": [
    "### Split String"
   ]
  },
  {
   "cell_type": "markdown",
   "id": "d39e56d9",
   "metadata": {},
   "source": [
    "The split() method returns a list where the text between the specified separator becomes the list items."
   ]
  },
  {
   "cell_type": "markdown",
   "id": "c650e351",
   "metadata": {},
   "source": [
    "<b>Example</b><br>\n",
    "The split() method splits the string into substrings if it finds instances of the separator:"
   ]
  },
  {
   "cell_type": "code",
   "execution_count": 70,
   "id": "124cd525",
   "metadata": {},
   "outputs": [
    {
     "name": "stdout",
     "output_type": "stream",
     "text": [
      "['Basics', ' of', ' Python']\n"
     ]
    }
   ],
   "source": [
    "a=\"Basics, of, Python\"\n",
    "print(a.split(\",\"))"
   ]
  },
  {
   "cell_type": "markdown",
   "id": "7f2e2c0f",
   "metadata": {},
   "source": [
    "### String Concatenation"
   ]
  },
  {
   "cell_type": "markdown",
   "id": "871e5770",
   "metadata": {},
   "source": [
    "To concatenate, or combine, two strings you can use the + operator."
   ]
  },
  {
   "cell_type": "markdown",
   "id": "a72c8770",
   "metadata": {},
   "source": [
    "<b>Example</b><br>\n",
    "Merge variable a with variable b into variable c:"
   ]
  },
  {
   "cell_type": "code",
   "execution_count": 72,
   "id": "d272becc",
   "metadata": {},
   "outputs": [
    {
     "name": "stdout",
     "output_type": "stream",
     "text": [
      "Basics of Python\n"
     ]
    }
   ],
   "source": [
    "a = \"Basics of\"\n",
    "b = \" Python\"\n",
    "c = a + b\n",
    "print(c)"
   ]
  },
  {
   "cell_type": "markdown",
   "id": "5877bbad",
   "metadata": {},
   "source": [
    "### String Format"
   ]
  },
  {
   "cell_type": "markdown",
   "id": "63f9f15c",
   "metadata": {},
   "source": [
    "we can combine strings and numbers by using the format() method!\n",
    "\n",
    "The format() method takes the passed arguments, formats them, and places them in the string where the placeholders {} are:\n",
    "\n",
    "\n"
   ]
  },
  {
   "cell_type": "markdown",
   "id": "f1ddfe22",
   "metadata": {},
   "source": [
    "<b>Example</b><br>\n",
    "Use the format() method to insert numbers into strings:"
   ]
  },
  {
   "cell_type": "code",
   "execution_count": 158,
   "id": "f42fcdd5",
   "metadata": {},
   "outputs": [
    {
     "name": "stdout",
     "output_type": "stream",
     "text": [
      "My name is Jack, and I am 24\n",
      "My name is Jack, and I am 24.00\n"
     ]
    }
   ],
   "source": [
    "age = 24\n",
    "txt = \"My name is Jack, and I am {}\"\n",
    "print(txt.format(age))\n",
    "#Format the age to be displayed as a number with two decimals:\n",
    "txt = \"My name is Jack, and I am {:.2f}\"\n",
    "print(txt.format(age))"
   ]
  },
  {
   "cell_type": "markdown",
   "id": "40c54f74",
   "metadata": {},
   "source": [
    "### Multiple Values\n",
    "If we want to use more values, just add more values to the format() method:"
   ]
  },
  {
   "cell_type": "code",
   "execution_count": 162,
   "id": "e2088b28",
   "metadata": {},
   "outputs": [
    {
     "name": "stdout",
     "output_type": "stream",
     "text": [
      "I want 6 pieces of item number 756 for 99.00 dollars.\n",
      "I want 6 pieces of item number 756 for 99.00 dollars.\n"
     ]
    }
   ],
   "source": [
    "quantity = 6\n",
    "itemno = 756\n",
    "price = 99\n",
    "myorder = \"I want {} pieces of item number {} for {:.2f} dollars.\"\n",
    "print(myorder.format(quantity, itemno, price))\n",
    "#we can use index numbers to be sure the values are placed in the correct placeholders:\n",
    "myorder = \"I want {0} pieces of item number {1} for {2:.2f} dollars.\"\n",
    "print(myorder.format(quantity, itemno, price))"
   ]
  },
  {
   "cell_type": "code",
   "execution_count": 163,
   "id": "9d398006",
   "metadata": {},
   "outputs": [
    {
     "name": "stdout",
     "output_type": "stream",
     "text": [
      "His name is Jack. Jack is 24 years old.\n"
     ]
    }
   ],
   "source": [
    "#Also, if we want to refer to the same value more than once, use the index number:\n",
    "#Example\n",
    "\n",
    "age = 24\n",
    "name = \"Jack\"\n",
    "txt = \"His name is {1}. {1} is {0} years old.\"\n",
    "print(txt.format(age, name))"
   ]
  },
  {
   "cell_type": "markdown",
   "id": "d8d7de53",
   "metadata": {},
   "source": [
    "### Named Indexes\n",
    "we can also use named indexes by entering a name inside the curly brackets {carname},<br>\n",
    "but then you must use names when you pass the parameter values txt.format(carname = \"Tesla\"):\n"
   ]
  },
  {
   "cell_type": "code",
   "execution_count": 166,
   "id": "96db5b8e",
   "metadata": {},
   "outputs": [
    {
     "name": "stdout",
     "output_type": "stream",
     "text": [
      "I have a Tesla, it is a Model S.\n"
     ]
    }
   ],
   "source": [
    "#Example\n",
    "myorder = \"I have a {carname}, it is a {model}.\"\n",
    "print(myorder.format(carname = \"Tesla\", model = \"Model S\"))"
   ]
  },
  {
   "cell_type": "markdown",
   "id": "7e3d42dd",
   "metadata": {},
   "source": [
    "## length of string"
   ]
  },
  {
   "cell_type": "code",
   "execution_count": 75,
   "id": "68a1c0c4",
   "metadata": {},
   "outputs": [
    {
     "name": "stdout",
     "output_type": "stream",
     "text": [
      "9\n"
     ]
    }
   ],
   "source": [
    "print(len(a))"
   ]
  },
  {
   "cell_type": "markdown",
   "id": "8e643355",
   "metadata": {},
   "source": [
    "<b>There are touns of methods for string you can lean more about <a href=\"https://www.w3schools.com/python/python_strings_methods.asp\">here</a></b>"
   ]
  },
  {
   "cell_type": "markdown",
   "id": "54b53b28",
   "metadata": {},
   "source": [
    "## Booleans "
   ]
  },
  {
   "cell_type": "markdown",
   "id": "d7d65221",
   "metadata": {},
   "source": [
    "<b>Boolean Values</b>"
   ]
  },
  {
   "cell_type": "markdown",
   "id": "d3a16be3",
   "metadata": {},
   "source": [
    "- In programming we often need to know if an expression is True or False.\n",
    "- We can evaluate any expression in Python, and get one of two answers, True or False.\n",
    "- When we compare two values, the expression is evaluated and Python returns the Boolean answer:"
   ]
  },
  {
   "cell_type": "code",
   "execution_count": 76,
   "id": "ba45a169",
   "metadata": {},
   "outputs": [
    {
     "name": "stdout",
     "output_type": "stream",
     "text": [
      "True\n",
      "False\n",
      "False\n"
     ]
    }
   ],
   "source": [
    "print(10 > 9)\n",
    "print(10 == 9)\n",
    "print(10 < 9)"
   ]
  },
  {
   "cell_type": "markdown",
   "id": "38231c0d",
   "metadata": {},
   "source": [
    "# Operators"
   ]
  },
  {
   "cell_type": "markdown",
   "id": "b2182788",
   "metadata": {},
   "source": [
    "Operators are special symbols that are used to perform operations on variables and values!. Following are some operators in Python"
   ]
  },
  {
   "cell_type": "markdown",
   "id": "bb172382",
   "metadata": {},
   "source": [
    "<b>Airthematic</b>"
   ]
  },
  {
   "cell_type": "code",
   "execution_count": 78,
   "id": "10bf7172",
   "metadata": {},
   "outputs": [
    {
     "name": "stdout",
     "output_type": "stream",
     "text": [
      "15\n"
     ]
    }
   ],
   "source": [
    "a=5\n",
    "b=10\n",
    "print(a+b)"
   ]
  },
  {
   "cell_type": "markdown",
   "id": "e200ef45",
   "metadata": {},
   "source": [
    "<b>Assignment</b>"
   ]
  },
  {
   "cell_type": "code",
   "execution_count": 79,
   "id": "2879d3cb",
   "metadata": {},
   "outputs": [
    {
     "name": "stdout",
     "output_type": "stream",
     "text": [
      "10\n"
     ]
    }
   ],
   "source": [
    "a=5\n",
    "a +=5\n",
    "print(a)"
   ]
  },
  {
   "cell_type": "markdown",
   "id": "f46f63fc",
   "metadata": {},
   "source": [
    "<b>Comparison</b>"
   ]
  },
  {
   "cell_type": "code",
   "execution_count": 83,
   "id": "d239f68c",
   "metadata": {},
   "outputs": [
    {
     "name": "stdout",
     "output_type": "stream",
     "text": [
      "True\n"
     ]
    }
   ],
   "source": [
    "a=10\n",
    "b=5\n",
    "print(a>b)"
   ]
  },
  {
   "cell_type": "markdown",
   "id": "eb712105",
   "metadata": {},
   "source": [
    "<b>Logical</b>"
   ]
  },
  {
   "cell_type": "code",
   "execution_count": 82,
   "id": "91a42e39",
   "metadata": {},
   "outputs": [
    {
     "data": {
      "text/plain": [
       "True"
      ]
     },
     "execution_count": 82,
     "metadata": {},
     "output_type": "execute_result"
    }
   ],
   "source": [
    "a=5\n",
    "b=10\n",
    "(a or b) >3"
   ]
  },
  {
   "cell_type": "markdown",
   "id": "96a6227c",
   "metadata": {},
   "source": [
    "# List"
   ]
  },
  {
   "cell_type": "markdown",
   "id": "d67c74f1",
   "metadata": {},
   "source": [
    "- List is container to used to store different data types. \n",
    "- List are Mutable that means we can chnage the value in the list"
   ]
  },
  {
   "cell_type": "code",
   "execution_count": 85,
   "id": "7a803258",
   "metadata": {},
   "outputs": [
    {
     "name": "stdout",
     "output_type": "stream",
     "text": [
      "<class 'list'>\n"
     ]
    }
   ],
   "source": [
    "list1=[\"my\",\"name\",\"is\",123]\n",
    "print(type(list1))"
   ]
  },
  {
   "cell_type": "code",
   "execution_count": 88,
   "id": "35942c90",
   "metadata": {},
   "outputs": [
    {
     "name": "stdout",
     "output_type": "stream",
     "text": [
      "name\n"
     ]
    }
   ],
   "source": [
    "# we can also do indexing in the list\n",
    "print(list1[1])"
   ]
  },
  {
   "cell_type": "markdown",
   "id": "2dff7606",
   "metadata": {},
   "source": [
    "## Methods in list"
   ]
  },
  {
   "cell_type": "markdown",
   "id": "e756ab8e",
   "metadata": {},
   "source": [
    "Methods are the functions associated with the data types.<br>\n",
    "It can be acessed with the . notation .<br>\n",
    "List can be denoted by [ ]"
   ]
  },
  {
   "cell_type": "markdown",
   "id": "6750d03a",
   "metadata": {},
   "source": [
    "### Append"
   ]
  },
  {
   "cell_type": "code",
   "execution_count": 92,
   "id": "fa4176e9",
   "metadata": {},
   "outputs": [
    {
     "name": "stdout",
     "output_type": "stream",
     "text": [
      "['Jupyter', 'Notebook', 10, 40, 80, 100]\n"
     ]
    }
   ],
   "source": [
    "# A new value can be inserted at the last of the string\n",
    "list1=[\"Jupyter\",\"Notebook\",10,40,80]\n",
    "list1.append(100)\n",
    "print(list1)"
   ]
  },
  {
   "cell_type": "markdown",
   "id": "88378459",
   "metadata": {},
   "source": [
    "### Extend"
   ]
  },
  {
   "cell_type": "code",
   "execution_count": 94,
   "id": "af5f1702",
   "metadata": {},
   "outputs": [
    {
     "name": "stdout",
     "output_type": "stream",
     "text": [
      "['Jupyter', 'Notebook', 10, 40, 80, 100, 50, 60, 70]\n"
     ]
    }
   ],
   "source": [
    "# if we want multiple elements to add\n",
    "list1.extend([50,60,70])\n",
    "print(list1)"
   ]
  },
  {
   "cell_type": "markdown",
   "id": "23e21940",
   "metadata": {},
   "source": [
    "### Insert"
   ]
  },
  {
   "cell_type": "code",
   "execution_count": 95,
   "id": "a34983d0",
   "metadata": {},
   "outputs": [
    {
     "name": "stdout",
     "output_type": "stream",
     "text": [
      "['new_value', 'Jupyter', 'Notebook', 10, 40, 80, 100, 50, 60, 70]\n"
     ]
    }
   ],
   "source": [
    "list1.insert(0,\"new_value\")\n",
    "print(list1)"
   ]
  },
  {
   "cell_type": "markdown",
   "id": "6bee5151",
   "metadata": {},
   "source": [
    "### Remove/pop"
   ]
  },
  {
   "cell_type": "code",
   "execution_count": 97,
   "id": "948c9cc6",
   "metadata": {},
   "outputs": [
    {
     "name": "stdout",
     "output_type": "stream",
     "text": [
      "['new_value', 'Jupyter', 10, 40, 80, 100, 50, 60, 70]\n"
     ]
    }
   ],
   "source": [
    "# if we want to remove a value we directly use remove method nd if we want to remove from a paticular index use pop.\n",
    "list1.remove(\"Notebook\")\n",
    "print(list1)"
   ]
  },
  {
   "cell_type": "markdown",
   "id": "29eb3fe5",
   "metadata": {},
   "source": [
    "### Sort"
   ]
  },
  {
   "cell_type": "code",
   "execution_count": 98,
   "id": "c588b182",
   "metadata": {},
   "outputs": [
    {
     "name": "stdout",
     "output_type": "stream",
     "text": [
      "[5, 10, 20, 25, 30, 90]\n"
     ]
    }
   ],
   "source": [
    "# if we want to sort a list\n",
    "l1=[20,30,90,10,5,25]\n",
    "l1.sort()\n",
    "print(l1)"
   ]
  },
  {
   "cell_type": "markdown",
   "id": "81847e70",
   "metadata": {},
   "source": [
    "# Tuple"
   ]
  },
  {
   "cell_type": "markdown",
   "id": "8a19c339",
   "metadata": {},
   "source": [
    "- Tuples are the ordered collection of the values like in the list, but unchangeable.\n",
    "- Tuples are Immutable. \n",
    "- It can be denoted by ()\n",
    "- Allow Duplicates\n",
    "  - Since tuples are indexed, they can have items with the same value."
   ]
  },
  {
   "cell_type": "code",
   "execution_count": 99,
   "id": "04f7dcf5",
   "metadata": {},
   "outputs": [
    {
     "name": "stdout",
     "output_type": "stream",
     "text": [
      "<class 'tuple'>\n"
     ]
    }
   ],
   "source": [
    "tup1=(\"my\",\"name\",\"is\",22)\n",
    "print(type(tup1))"
   ]
  },
  {
   "cell_type": "markdown",
   "id": "4b2aaa7b",
   "metadata": {},
   "source": [
    "<b>Tuples have just two built in methods count and index</b>"
   ]
  },
  {
   "cell_type": "markdown",
   "id": "460dedab",
   "metadata": {},
   "source": [
    "### Count\n"
   ]
  },
  {
   "cell_type": "code",
   "execution_count": 101,
   "id": "ce1c4a7e",
   "metadata": {},
   "outputs": [
    {
     "name": "stdout",
     "output_type": "stream",
     "text": [
      "3\n"
     ]
    }
   ],
   "source": [
    "# if we want to count a paticular element in the list\n",
    "tp1=(2,3,5,6,9,6,4,2,0,2)\n",
    "print(tp1.count(2))"
   ]
  },
  {
   "cell_type": "markdown",
   "id": "6dbecffd",
   "metadata": {},
   "source": [
    "### Index"
   ]
  },
  {
   "cell_type": "code",
   "execution_count": 102,
   "id": "05173f89",
   "metadata": {},
   "outputs": [
    {
     "name": "stdout",
     "output_type": "stream",
     "text": [
      "2\n"
     ]
    }
   ],
   "source": [
    "# It will help us to find the index of the elemnt\n",
    "print(tp1.index(5))"
   ]
  },
  {
   "cell_type": "markdown",
   "id": "56911462",
   "metadata": {},
   "source": [
    "# Sets"
   ]
  },
  {
   "cell_type": "markdown",
   "id": "ce11f1ea",
   "metadata": {},
   "source": [
    "Set items are unordered, unchangeable, and do not allow duplicate values."
   ]
  },
  {
   "cell_type": "code",
   "execution_count": 104,
   "id": "e307af08",
   "metadata": {},
   "outputs": [
    {
     "name": "stdout",
     "output_type": "stream",
     "text": [
      "{'cherry', 'banana', 'apple'}\n",
      "<class 'set'>\n"
     ]
    }
   ],
   "source": [
    "thisset = {\"apple\", \"banana\", \"cherry\", \"apple\"}\n",
    "\n",
    "print(thisset)\n",
    "print(type(thisset))"
   ]
  },
  {
   "cell_type": "markdown",
   "id": "ee7c185e",
   "metadata": {},
   "source": [
    "## Methods in Sets"
   ]
  },
  {
   "cell_type": "markdown",
   "id": "f768e0cc",
   "metadata": {},
   "source": [
    "### Union"
   ]
  },
  {
   "cell_type": "code",
   "execution_count": 105,
   "id": "321214a0",
   "metadata": {},
   "outputs": [
    {
     "name": "stdout",
     "output_type": "stream",
     "text": [
      "{1, 2, 3, 4, 5, 6, 7}\n"
     ]
    }
   ],
   "source": [
    "# returns all the values \n",
    "s1=({1,2,3,4,5})\n",
    "s2=({2,5,6,7})\n",
    "print(s1.union(s2))"
   ]
  },
  {
   "cell_type": "markdown",
   "id": "23c10c5b",
   "metadata": {},
   "source": [
    "### Intersection"
   ]
  },
  {
   "cell_type": "code",
   "execution_count": 106,
   "id": "5543414d",
   "metadata": {},
   "outputs": [
    {
     "name": "stdout",
     "output_type": "stream",
     "text": [
      "{2, 5}\n"
     ]
    }
   ],
   "source": [
    "# returns only matching values\n",
    "s1=({1,2,3,4,5})\n",
    "s2=({2,5,6,7})\n",
    "print(s1.intersection(s2))"
   ]
  },
  {
   "cell_type": "markdown",
   "id": "3c4b54d8",
   "metadata": {},
   "source": [
    "# Dictionary"
   ]
  },
  {
   "cell_type": "markdown",
   "id": "51dd79c0",
   "metadata": {},
   "source": [
    "Dictionaries are used to store data values in key:value pairs.<br>\n",
    "A dictionary is a collection which is ordered*, changeable and do not allow duplicates.<br>\n",
    "Dictionaries are written with curly brackets, and have keys and values:"
   ]
  },
  {
   "cell_type": "code",
   "execution_count": 2,
   "id": "c00e92bd",
   "metadata": {},
   "outputs": [
    {
     "name": "stdout",
     "output_type": "stream",
     "text": [
      "{'brand': 'Ford', 'model': 'Mustang', 'year': 1964}\n"
     ]
    }
   ],
   "source": [
    "thisdict = {\n",
    "  \"brand\": \"Ford\",\n",
    "  \"model\": \"Mustang\",\n",
    "  \"year\": 1964\n",
    "}\n",
    "print(thisdict)"
   ]
  },
  {
   "cell_type": "code",
   "execution_count": 3,
   "id": "87815627",
   "metadata": {},
   "outputs": [
    {
     "name": "stdout",
     "output_type": "stream",
     "text": [
      "dict_keys(['brand', 'model', 'year'])\n"
     ]
    }
   ],
   "source": [
    "print(thisdict.keys())"
   ]
  },
  {
   "cell_type": "code",
   "execution_count": 4,
   "id": "b711869d",
   "metadata": {},
   "outputs": [
    {
     "name": "stdout",
     "output_type": "stream",
     "text": [
      "dict_values(['Ford', 'Mustang', 1964])\n"
     ]
    }
   ],
   "source": [
    "print(thisdict.values())"
   ]
  },
  {
   "cell_type": "code",
   "execution_count": 5,
   "id": "e3768be3",
   "metadata": {},
   "outputs": [],
   "source": [
    "thisdict[\"brand\"]=\"BMW\" "
   ]
  },
  {
   "cell_type": "code",
   "execution_count": 6,
   "id": "844af8c1",
   "metadata": {},
   "outputs": [
    {
     "data": {
      "text/plain": [
       "'BMW'"
      ]
     },
     "execution_count": 6,
     "metadata": {},
     "output_type": "execute_result"
    }
   ],
   "source": [
    "thisdict[\"brand\"]"
   ]
  },
  {
   "cell_type": "markdown",
   "id": "e8ecca39",
   "metadata": {},
   "source": [
    "## Methods in Dictionary"
   ]
  },
  {
   "cell_type": "markdown",
   "id": "2e1fc727",
   "metadata": {},
   "source": [
    "### Items"
   ]
  },
  {
   "cell_type": "code",
   "execution_count": 7,
   "id": "0004425e",
   "metadata": {},
   "outputs": [
    {
     "name": "stdout",
     "output_type": "stream",
     "text": [
      "dict_items([('brand', 'BMW'), ('model', 'Mustang'), ('year', 1964)])\n"
     ]
    }
   ],
   "source": [
    "# It will return the key value pairs in a tuple\n",
    "print(thisdict.items())"
   ]
  },
  {
   "cell_type": "markdown",
   "id": "b0635f56",
   "metadata": {},
   "source": [
    "### Keys"
   ]
  },
  {
   "cell_type": "code",
   "execution_count": 8,
   "id": "4acbe296",
   "metadata": {},
   "outputs": [
    {
     "name": "stdout",
     "output_type": "stream",
     "text": [
      "dict_keys(['brand', 'model', 'year'])\n"
     ]
    }
   ],
   "source": [
    "# It will return the  keys  in a list\n",
    "print(thisdict.keys())"
   ]
  },
  {
   "cell_type": "markdown",
   "id": "0eec211f",
   "metadata": {},
   "source": [
    "### Values"
   ]
  },
  {
   "cell_type": "code",
   "execution_count": 9,
   "id": "52bdf1e2",
   "metadata": {},
   "outputs": [
    {
     "name": "stdout",
     "output_type": "stream",
     "text": [
      "dict_values(['BMW', 'Mustang', 1964])\n"
     ]
    }
   ],
   "source": [
    "# It will return the  values in a list\n",
    "print(thisdict.values())"
   ]
  },
  {
   "cell_type": "markdown",
   "id": "ffa1d2f1",
   "metadata": {},
   "source": [
    "### Update"
   ]
  },
  {
   "cell_type": "code",
   "execution_count": 10,
   "id": "ad23d0e0",
   "metadata": {},
   "outputs": [
    {
     "name": "stdout",
     "output_type": "stream",
     "text": [
      "{'brand': 'BMW', 'model': 'Mustang', 'year': 1964, 'Origin': 'Germany'}\n"
     ]
    }
   ],
   "source": [
    "update_dict={\"Origin\":\"Germany\"}\n",
    "thisdict.update(update_dict)\n",
    "print(thisdict)"
   ]
  },
  {
   "cell_type": "markdown",
   "id": "49b95bb5",
   "metadata": {},
   "source": [
    "# Conditional Statements"
   ]
  },
  {
   "cell_type": "markdown",
   "id": "a0be521c",
   "metadata": {},
   "source": [
    "## Conditions "
   ]
  },
  {
   "cell_type": "markdown",
   "id": "d3b87b2f",
   "metadata": {},
   "source": [
    "Python supports the usual logical conditions from maths:\n",
    "\n",
    "- Equals: <b>a == b</b>\n",
    "- Not Equals: <b>a != b</b>\n",
    "- Less than: <b>a < b</b>\n",
    "- Less than or equal to: <b>a <= b</b>\n",
    "- Greater than: <b>a > b</b>\n",
    "- Greater than or equal to: <b>a >= b</b>\n",
    "\n",
    "These conditions are use in  if statements and loops."
   ]
  },
  {
   "cell_type": "markdown",
   "id": "d1957c53",
   "metadata": {},
   "source": [
    "## If statements"
   ]
  },
  {
   "cell_type": "markdown",
   "id": "7ab0a566",
   "metadata": {},
   "source": [
    "- If statement is the most simple decision-making statement. \n",
    "- It is used to decide whether a certain statement or block of statements will be executed or not.<br> \n",
    "e.g if a condition is true then a block of statement is executed otherwise not."
   ]
  },
  {
   "cell_type": "markdown",
   "id": "5243fdd8",
   "metadata": {},
   "source": [
    "### If"
   ]
  },
  {
   "cell_type": "code",
   "execution_count": 15,
   "id": "b9270e78",
   "metadata": {},
   "outputs": [
    {
     "name": "stdout",
     "output_type": "stream",
     "text": [
      "p is greater than y\n"
     ]
    }
   ],
   "source": [
    "#Example\n",
    "#If statement:\n",
    "\n",
    "p = 600\n",
    "y = 200\n",
    "if p > y:\n",
    " print(\"p is greater than y\")"
   ]
  },
  {
   "cell_type": "markdown",
   "id": "604aea17",
   "metadata": {},
   "source": [
    "### elif"
   ]
  },
  {
   "cell_type": "markdown",
   "id": "18d26342",
   "metadata": {},
   "source": [
    "The elif keyword means \"if the previous conditions were not true, then try this condition\"."
   ]
  },
  {
   "cell_type": "code",
   "execution_count": 19,
   "id": "a38fd13f",
   "metadata": {},
   "outputs": [
    {
     "name": "stdout",
     "output_type": "stream",
     "text": [
      "p and y are equal\n"
     ]
    }
   ],
   "source": [
    "#Example\n",
    "p = 16 \n",
    "y = 16\n",
    "if p > y:\n",
    "  print(\"p is greater than y\")\n",
    "elif p == y:\n",
    "  print(\"p and y are equal\")"
   ]
  },
  {
   "cell_type": "markdown",
   "id": "d024a8ee",
   "metadata": {},
   "source": [
    "### Else"
   ]
  },
  {
   "cell_type": "markdown",
   "id": "cdbe3254",
   "metadata": {},
   "source": [
    "if a condition is true it will execute a block of statements and if the condition is false it won’t.<br> But what if we want to do something else if the condition is false. <br>\n",
    "\n",
    "Here comes the else statement. We can use the else statement with if statement to execute <br>a block of code when the condition is false."
   ]
  },
  {
   "cell_type": "code",
   "execution_count": 21,
   "id": "78c0f2d6",
   "metadata": {},
   "outputs": [
    {
     "name": "stdout",
     "output_type": "stream",
     "text": [
      "Value is less than 200\n"
     ]
    }
   ],
   "source": [
    "py=70\n",
    "if py > 140:\n",
    "    print(\"Value is greater than 200\")\n",
    "else:\n",
    "    print(\"Value is less than 200\")"
   ]
  },
  {
   "cell_type": "markdown",
   "id": "d1eebfa6",
   "metadata": {},
   "source": [
    "<b> IF-ELIF-ELSE</b>"
   ]
  },
  {
   "cell_type": "code",
   "execution_count": 23,
   "id": "d115b1da",
   "metadata": {},
   "outputs": [
    {
     "name": "stdout",
     "output_type": "stream",
     "text": [
      " Value is 15\n"
     ]
    }
   ],
   "source": [
    "#Example\n",
    "py=15\n",
    "if py == 10:\n",
    "    print(\" Value is 10\")\n",
    "elif py ==15:\n",
    "    print(\" Value is 15\")\n",
    "elif py == 20:\n",
    "    print(\" Value is 20\")\n",
    "else:\n",
    "    print(\" Value is Greater than 20\")"
   ]
  },
  {
   "cell_type": "markdown",
   "id": "a428c7f9",
   "metadata": {},
   "source": [
    "# Loops"
   ]
  },
  {
   "cell_type": "markdown",
   "id": "d21f92a4",
   "metadata": {},
   "source": [
    "If we want to repeat a set of line's execution in our program there the loops comes handy. for ex we want to print number from 1 to 100 . Loops make it easy for a programmer to tell the computer which set of instructions to repeat and how.\n",
    "\n",
    "Python has two primitive loop:\n",
    "\n",
    "- while loops\n",
    "- for loops\n"
   ]
  },
  {
   "cell_type": "markdown",
   "id": "15a22b09",
   "metadata": {},
   "source": [
    "## The while Loop"
   ]
  },
  {
   "cell_type": "markdown",
   "id": "c6e15092",
   "metadata": {},
   "source": [
    "While Loop is used to execute a block of statements repeatedly until a given condition is satisfied.<br>\n",
    "&nbsp;&nbsp;   When the condition becomes false, the line immediately after the loop in the program is executed."
   ]
  },
  {
   "cell_type": "code",
   "execution_count": 26,
   "id": "60bf2753",
   "metadata": {},
   "outputs": [
    {
     "name": "stdout",
     "output_type": "stream",
     "text": [
      "Hello, Python\n",
      "Hello, Python\n",
      "Hello, Python\n",
      "Hello, Python\n",
      "Hello, Python\n",
      "Hello, Python\n"
     ]
    }
   ],
   "source": [
    "#Example\n",
    "#Print i as long as i is less than 6:\n",
    "\n",
    "i = 1\n",
    "while i < 7:\n",
    "  print(\"Hello, Python\")\n",
    "  i += 1"
   ]
  },
  {
   "cell_type": "markdown",
   "id": "7cd57d34",
   "metadata": {},
   "source": [
    "## For Loops "
   ]
  },
  {
   "cell_type": "markdown",
   "id": "1b326b63",
   "metadata": {},
   "source": [
    "for loop is used to iterate through a sequence like list.<br>\n",
    "This is less like the for keyword in other programming languages, and works more like an iterator method as found in other <br>object-orientated programming languages.<br>\n",
    "\n",
    "With the for loop we can execute a set of statements, once for each item in a list, tuple, set etc."
   ]
  },
  {
   "cell_type": "code",
   "execution_count": 27,
   "id": "0b0fb280",
   "metadata": {},
   "outputs": [
    {
     "name": "stdout",
     "output_type": "stream",
     "text": [
      "Avacado\n",
      "Blue berry\n",
      "Carrots\n"
     ]
    }
   ],
   "source": [
    "#Example\n",
    "#Print each fruit in a fruit list:\n",
    "\n",
    "fruits = [\"Avacado\", \"Blue berry\", \"Carrots\"]\n",
    "for x in fruits:\n",
    "  print(x)"
   ]
  },
  {
   "cell_type": "code",
   "execution_count": 28,
   "id": "b2f0c3db",
   "metadata": {},
   "outputs": [
    {
     "name": "stdout",
     "output_type": "stream",
     "text": [
      "1\n",
      "3\n",
      "5\n",
      "7\n",
      "9\n"
     ]
    }
   ],
   "source": [
    "# print only even numbers\n",
    "list1=[1,2,3,4,5,6,7,8,9]\n",
    "for num in list1:\n",
    "    if num%2!=0:\n",
    "        print(num)"
   ]
  },
  {
   "cell_type": "code",
   "execution_count": 29,
   "id": "8d1ace4c",
   "metadata": {},
   "outputs": [
    {
     "name": "stdout",
     "output_type": "stream",
     "text": [
      "B\n",
      "l\n",
      "u\n",
      "e\n",
      "b\n",
      "e\n",
      "r\n",
      "r\n",
      "i\n",
      "e\n",
      "s\n"
     ]
    }
   ],
   "source": [
    "#Loop through the letters in the word \"\":\n",
    "\n",
    "for x in \"Blueberries\":\n",
    "  print(x)"
   ]
  },
  {
   "cell_type": "markdown",
   "id": "7f4229a5",
   "metadata": {},
   "source": [
    "## The break Statement"
   ]
  },
  {
   "cell_type": "markdown",
   "id": "73f14848",
   "metadata": {},
   "source": [
    "the break statement can stop the loop before it has looped through all the items."
   ]
  },
  {
   "cell_type": "code",
   "execution_count": 30,
   "id": "73acbba8",
   "metadata": {},
   "outputs": [
    {
     "name": "stdout",
     "output_type": "stream",
     "text": [
      "1\n",
      "2\n",
      "3\n",
      "4\n",
      "5\n"
     ]
    }
   ],
   "source": [
    "#Example\n",
    "#Exit the loop when i is 5:\n",
    "\n",
    "p = 1\n",
    "while p < 7:\n",
    "  print(p)\n",
    "  if p == 5:\n",
    "    break\n",
    "  p += 1"
   ]
  },
  {
   "cell_type": "code",
   "execution_count": 31,
   "id": "3ca9cc14",
   "metadata": {},
   "outputs": [
    {
     "name": "stdout",
     "output_type": "stream",
     "text": [
      "0\n",
      "1\n",
      "2\n",
      "3\n",
      "4\n",
      "5\n",
      "6\n",
      "7\n"
     ]
    }
   ],
   "source": [
    "# when num is 3 break the looop\n",
    "for x in range(50):\n",
    "    print(x)\n",
    "    if x==7:\n",
    "        break"
   ]
  },
  {
   "cell_type": "markdown",
   "id": "1c4a76ae",
   "metadata": {},
   "source": [
    "## The continue Statement"
   ]
  },
  {
   "cell_type": "markdown",
   "id": "4e949943",
   "metadata": {},
   "source": [
    "Continue is used to stop the current iteration and continue with the next iteration."
   ]
  },
  {
   "cell_type": "code",
   "execution_count": 38,
   "id": "a30b0e02",
   "metadata": {},
   "outputs": [
    {
     "name": "stdout",
     "output_type": "stream",
     "text": [
      "1\n",
      "2\n",
      "3\n",
      "4\n",
      "6\n",
      "7\n"
     ]
    }
   ],
   "source": [
    "#Example\n",
    "#Exit the loop when i is 5:\n",
    "\n",
    "p = 0\n",
    "while p < 7:\n",
    "  p += 1\n",
    "  if p == 5:\n",
    "    continue    \n",
    "  print(p)\n",
    "  "
   ]
  },
  {
   "cell_type": "code",
   "execution_count": 40,
   "id": "37ff494b",
   "metadata": {},
   "outputs": [
    {
     "name": "stdout",
     "output_type": "stream",
     "text": [
      "1\n",
      "2\n",
      "3\n",
      "4\n",
      "5\n",
      "6\n",
      "8\n",
      "9\n",
      "10\n"
     ]
    }
   ],
   "source": [
    "# print  num from 1 to 10 without number 5 skip number 5\n",
    "for x in range(1,11):\n",
    "    if x == 7:\n",
    "        continue\n",
    "    print(x)"
   ]
  },
  {
   "cell_type": "markdown",
   "id": "31341478",
   "metadata": {},
   "source": [
    "## The range() Function"
   ]
  },
  {
   "cell_type": "markdown",
   "id": "3e2c7d95",
   "metadata": {},
   "source": [
    "The range() function returns a sequence of numbers, starting from 0 by default, and increments by 1 (by default), and ends at a specified number.<br>\n",
    "we can specify ( start stop stepsize) in range function.\n"
   ]
  },
  {
   "cell_type": "code",
   "execution_count": 45,
   "id": "000817a5",
   "metadata": {},
   "outputs": [
    {
     "name": "stdout",
     "output_type": "stream",
     "text": [
      "0\n",
      "1\n",
      "2\n",
      "With starting and ending given\n",
      "1\n",
      "2\n",
      "3\n",
      "4\n",
      "5\n",
      "6\n",
      "7\n"
     ]
    }
   ],
   "source": [
    "#Example\n",
    "#Using the range() function:\n",
    "\n",
    "for x in range(3):\n",
    "  print(x)\n",
    "print(\"With starting and ending given\")\n",
    "for x in range(1,8): # it will not include the stop num\n",
    "    print(x)"
   ]
  },
  {
   "cell_type": "markdown",
   "id": "4050431c",
   "metadata": {},
   "source": [
    "# Functions"
   ]
  },
  {
   "cell_type": "markdown",
   "id": "de9b9600",
   "metadata": {},
   "source": [
    "- A function is a block of code which only runs when it is called.\n",
    "- You can pass data, known as parameters, into a function.\n",
    "- A function can return data as a result.\n",
    "- A function can be used as many times as can. \n",
    "- It is represented by def keyword"
   ]
  },
  {
   "cell_type": "markdown",
   "id": "354e19b8",
   "metadata": {},
   "source": [
    "## Creating a Function and Calling a Function"
   ]
  },
  {
   "cell_type": "code",
   "execution_count": 54,
   "id": "dba26f75",
   "metadata": {},
   "outputs": [
    {
     "name": "stdout",
     "output_type": "stream",
     "text": [
      "Function part\n"
     ]
    }
   ],
   "source": [
    "def my_fun():\n",
    "  print(\"Function part\")\n",
    "my_fun()"
   ]
  },
  {
   "cell_type": "code",
   "execution_count": 56,
   "id": "7324a129",
   "metadata": {},
   "outputs": [
    {
     "data": {
      "text/plain": [
       "10"
      ]
     },
     "execution_count": 56,
     "metadata": {},
     "output_type": "execute_result"
    }
   ],
   "source": [
    "# make a function to add two numbers\n",
    "def substract(p,y):\n",
    "    return p-y\n",
    "substract(16,6) # add this is called function call"
   ]
  },
  {
   "cell_type": "markdown",
   "id": "ee6bf006",
   "metadata": {},
   "source": [
    "### Types Of Functions"
   ]
  },
  {
   "cell_type": "markdown",
   "id": "f95729c3",
   "metadata": {},
   "source": [
    "There are two types of functions:\n",
    " - In-Built\n",
    " - User-Defined"
   ]
  },
  {
   "cell_type": "markdown",
   "id": "4318c93a",
   "metadata": {},
   "source": [
    "### In-Built"
   ]
  },
  {
   "cell_type": "markdown",
   "id": "04bf8d47",
   "metadata": {},
   "source": [
    "- In-built functions are defined as the functions whose functionality is pre-defined in Python.<br>\n",
    "- We don't need to define them we get them along with the python itself.<br>\n",
    "e.g len() , range() , print()"
   ]
  },
  {
   "cell_type": "code",
   "execution_count": 60,
   "id": "3707a08b",
   "metadata": {},
   "outputs": [
    {
     "name": "stdout",
     "output_type": "stream",
     "text": [
      "8\n"
     ]
    }
   ],
   "source": [
    "# calculate the length of the list\n",
    "list1=[1,2,8,5,3,7,2,1]\n",
    "print(len(list1))"
   ]
  },
  {
   "cell_type": "markdown",
   "id": "b063373c",
   "metadata": {},
   "source": [
    "### User-Defined"
   ]
  },
  {
   "cell_type": "markdown",
   "id": "736c1185",
   "metadata": {},
   "source": [
    "- A function that we define ourself in a program is known as user defined function.\n",
    "- You can give any name to a user defined function, however you cannot use the Python keywords as function name."
   ]
  },
  {
   "cell_type": "code",
   "execution_count": 61,
   "id": "52bf4a1b",
   "metadata": {},
   "outputs": [
    {
     "name": "stdout",
     "output_type": "stream",
     "text": [
      "even\n",
      "odd\n"
     ]
    }
   ],
   "source": [
    "def evenOdd( x ):\n",
    "    if (x % 2 == 0):\n",
    "        print(\"even\")\n",
    "    else:\n",
    "        print(\"odd\")\n",
    "   \n",
    "evenOdd(2)\n",
    "evenOdd(3)"
   ]
  },
  {
   "cell_type": "markdown",
   "id": "a62cb819",
   "metadata": {},
   "source": [
    "## Recursion"
   ]
  },
  {
   "cell_type": "markdown",
   "id": "f5d9e1e0",
   "metadata": {},
   "source": [
    "Recursion is a function that calls it self. It mainly uses directly a mathematical formula as a function."
   ]
  },
  {
   "cell_type": "code",
   "execution_count": 66,
   "id": "56b5cfd0",
   "metadata": {},
   "outputs": [
    {
     "name": "stdout",
     "output_type": "stream",
     "text": [
      "The factorial of 7 is 5040\n"
     ]
    }
   ],
   "source": [
    "def factorial(x):\n",
    "    if x == 1:\n",
    "        return 1\n",
    "    else:\n",
    "        return (x * factorial(x-1))\n",
    "\n",
    "num = 7\n",
    "print(\"The factorial of\", num, \"is\", factorial(num))"
   ]
  },
  {
   "cell_type": "markdown",
   "id": "890c0fcc",
   "metadata": {},
   "source": [
    "## Lambda Function"
   ]
  },
  {
   "cell_type": "markdown",
   "id": "daa64d51",
   "metadata": {},
   "source": [
    "- Lambda function is a small anonymous function.<br>\n",
    "- Lambda function can take any number of arguments, but can only have one expression."
   ]
  },
  {
   "cell_type": "markdown",
   "id": "df5c464e",
   "metadata": {},
   "source": [
    "<b>Syntax</b><br>\n",
    "lambda arguments : expression<br>\n",
    "\n",
    "The expression is executed and the result is returned:"
   ]
  },
  {
   "cell_type": "code",
   "execution_count": null,
   "id": "78dc5e35",
   "metadata": {},
   "outputs": [],
   "source": [
    "#Example\n",
    "#multiply 16 to argument a, and return the result:\n",
    "\n",
    "x = lambda b : b * 16\n",
    "print(x(5))"
   ]
  },
  {
   "cell_type": "markdown",
   "id": "09b6f4ae",
   "metadata": {},
   "source": [
    "Lambda functions can take any number of arguments:"
   ]
  },
  {
   "cell_type": "code",
   "execution_count": 2,
   "id": "b85c85b7",
   "metadata": {},
   "outputs": [
    {
     "name": "stdout",
     "output_type": "stream",
     "text": [
      "112\n"
     ]
    }
   ],
   "source": [
    "#Example\n",
    "#Multiply argument p with argument y and return the result:\n",
    "\n",
    "x = lambda p, y : p * y\n",
    "print(x(16, 7))"
   ]
  },
  {
   "cell_type": "markdown",
   "id": "2b79bc94",
   "metadata": {},
   "source": [
    "Lambda Functions need, when we use them as an anonymous function inside another function."
   ]
  },
  {
   "cell_type": "code",
   "execution_count": 8,
   "id": "bdf89928",
   "metadata": {},
   "outputs": [
    {
     "name": "stdout",
     "output_type": "stream",
     "text": [
      "25\n"
     ]
    }
   ],
   "source": [
    "def myFunc(n):\n",
    "  return lambda p : p * n\n",
    "\n",
    "x=myFunc(5)\n",
    "print(x(5))"
   ]
  },
  {
   "cell_type": "markdown",
   "id": "f12f194a",
   "metadata": {},
   "source": [
    "## Arrays"
   ]
  },
  {
   "cell_type": "markdown",
   "id": "18d3c7a1",
   "metadata": {},
   "source": [
    "Arrays are used to store multiple values in one single variable"
   ]
  },
  {
   "cell_type": "code",
   "execution_count": 10,
   "id": "a7125af4",
   "metadata": {},
   "outputs": [
    {
     "name": "stdout",
     "output_type": "stream",
     "text": [
      "['Tesla', 'Apple', 'Microsoft', 'TCS']\n"
     ]
    }
   ],
   "source": [
    "#Example\n",
    "#Create an array of company names:\n",
    "\n",
    "com = [\"Tesla\", \"Apple\", \"Microsoft\",\"TCS\"]\n",
    "print(com)"
   ]
  },
  {
   "cell_type": "markdown",
   "id": "3e52cc5a",
   "metadata": {},
   "source": [
    "## Access Elements of an Array"
   ]
  },
  {
   "cell_type": "code",
   "execution_count": 12,
   "id": "b34c61ff",
   "metadata": {},
   "outputs": [
    {
     "name": "stdout",
     "output_type": "stream",
     "text": [
      "Apple\n"
     ]
    }
   ],
   "source": [
    "#Example\n",
    "#Get the value of the first array item:\n",
    "\n",
    "p = com[1]\n",
    "print(p)"
   ]
  },
  {
   "cell_type": "markdown",
   "id": "ec473c8b",
   "metadata": {},
   "source": [
    "## The Length of an Array"
   ]
  },
  {
   "cell_type": "markdown",
   "id": "b6bf3dda",
   "metadata": {},
   "source": [
    "len() method to return the length of an array"
   ]
  },
  {
   "cell_type": "code",
   "execution_count": 19,
   "id": "845a3d17",
   "metadata": {},
   "outputs": [
    {
     "name": "stdout",
     "output_type": "stream",
     "text": [
      "4\n"
     ]
    }
   ],
   "source": [
    "#Example\n",
    "#Return the number of elements in the companies array:\n",
    "\n",
    "p = len(com)\n",
    "print(p)"
   ]
  },
  {
   "cell_type": "markdown",
   "id": "ba89e13d",
   "metadata": {},
   "source": [
    "## Looping Array Elements\n",
    "\n",
    "We can use the for in loop to loop through all the elements of an array."
   ]
  },
  {
   "cell_type": "code",
   "execution_count": 20,
   "id": "7600d9a7",
   "metadata": {},
   "outputs": [
    {
     "name": "stdout",
     "output_type": "stream",
     "text": [
      "Tesla\n",
      "Apple\n",
      "Microsoft\n",
      "TCS\n"
     ]
    }
   ],
   "source": [
    "#Example\n",
    "#Print each item in the companies array:\n",
    "\n",
    "for x in com:\n",
    "  print(x)"
   ]
  },
  {
   "cell_type": "markdown",
   "id": "677c43ef",
   "metadata": {},
   "source": [
    "# Array Methods"
   ]
  },
  {
   "cell_type": "markdown",
   "id": "1a97019e",
   "metadata": {},
   "source": [
    "### Adding Array Elements\n",
    "\n",
    "You can use the append() method to add an element to an array.\n",
    "\n"
   ]
  },
  {
   "cell_type": "code",
   "execution_count": 22,
   "id": "f5238294",
   "metadata": {},
   "outputs": [
    {
     "name": "stdout",
     "output_type": "stream",
     "text": [
      "['Tesla', 'Apple', 'Microsoft', 'TCS', 'Amazon', 'Amazon']\n"
     ]
    }
   ],
   "source": [
    "#Example\n",
    "#Add one more element to the compaies array:\n",
    "\n",
    "com.append(\"Amazon\")\n",
    "print(com)"
   ]
  },
  {
   "cell_type": "markdown",
   "id": "87cccf2d",
   "metadata": {},
   "source": [
    "### Removing Array Elements\n",
    "\n",
    "You can use the pop() method to remove an element from the array."
   ]
  },
  {
   "cell_type": "code",
   "execution_count": 24,
   "id": "32e983b3",
   "metadata": {},
   "outputs": [
    {
     "data": {
      "text/plain": [
       "'Amazon'"
      ]
     },
     "execution_count": 24,
     "metadata": {},
     "output_type": "execute_result"
    }
   ],
   "source": [
    "#Example\n",
    "#Delete the element at given index of the companies array:\n",
    "\n",
    "com.pop(4)"
   ]
  },
  {
   "cell_type": "code",
   "execution_count": 25,
   "id": "9a0e98f5",
   "metadata": {},
   "outputs": [
    {
     "name": "stdout",
     "output_type": "stream",
     "text": [
      "['Tesla', 'Apple', 'Microsoft', 'TCS', 'Amazon']\n"
     ]
    }
   ],
   "source": [
    "print(com)"
   ]
  },
  {
   "cell_type": "markdown",
   "id": "817cbe6e",
   "metadata": {},
   "source": [
    "## Methods"
   ]
  },
  {
   "cell_type": "markdown",
   "id": "ee866901",
   "metadata": {},
   "source": [
    "<pre><b>Method</b>\t  <b>Description</b>\n",
    "<a href=\"https://www.w3schools.com/python/ref_list_append.asp\">append()</a>\tAdds an element at the end of the list\n",
    "<a href=\"https://www.w3schools.com/python/ref_list_clear.asp\">clear()</a>\t Removes all the elements from the list\n",
    "<a href=\"https://www.w3schools.com/python/ref_list_copy.asp\">copy()</a>\t  Returns a copy of the list\n",
    "<a href=\"https://www.w3schools.com/python/ref_list_count.asp\">count()</a>\t Returns the number of elements with the specified value\n",
    "<a href=\"https://www.w3schools.com/python/ref_list_extend.asp\">extend()</a>\tAdd the elements of a list (or any iterable), to the end of the current list\n",
    "<a href=\"https://www.w3schools.com/python/ref_list_index.asp\">index()</a>\t Returns the index of the first element with the specified value\n",
    "<a href=\"https://www.w3schools.com/python/ref_list_insert.asp\">insert()</a>\tAdds an element at the specified position\n",
    "<a href=\"https://www.w3schools.com/python/ref_list_pop.asp\">pop()</a>\t   Removes the element at the specified position\n",
    "<a href=\"https://www.w3schools.com/python/ref_list_remove.asp\">remove()</a>\tRemoves the first item with the specified value\n",
    "<a href=\"https://www.w3schools.com/python/ref_list_reverse.asp\">reverse()</a>   Reverses the order of the list\n",
    "<a href=\"https://www.w3schools.com/python/ref_list_sort.asp\">sort()</a>\t  Sorts the list</pre>"
   ]
  },
  {
   "cell_type": "markdown",
   "id": "7a47eef9",
   "metadata": {},
   "source": [
    "# OOPS "
   ]
  },
  {
   "cell_type": "markdown",
   "id": "d48520db",
   "metadata": {},
   "source": [
    "- Python is an object oriented programming language.\n",
    "- Almost everything in Python is an object, with its properties and methods.\n",
    "- Solving a problem by creating objects is one of the most popular approaches in programming.This is called object oriented programming!\n",
    "- This concept focuses on using reusable code."
   ]
  },
  {
   "cell_type": "markdown",
   "id": "2d681926",
   "metadata": {},
   "source": [
    "- <b>Class<b/>\n",
    "- <b>Objects</b>"
   ]
  },
  {
   "cell_type": "markdown",
   "id": "a2c6cf58",
   "metadata": {},
   "source": [
    "## Class\n",
    "A class is a blue print for creating objects, like an object constructor."
   ]
  },
  {
   "cell_type": "markdown",
   "id": "f58fd5fd",
   "metadata": {},
   "source": [
    "### Create a Class\n",
    "To create a class, use the keyword class:\n"
   ]
  },
  {
   "cell_type": "code",
   "execution_count": 32,
   "id": "964f85c7",
   "metadata": {},
   "outputs": [
    {
     "name": "stdout",
     "output_type": "stream",
     "text": [
      "<class '__main__.firstClass'>\n"
     ]
    }
   ],
   "source": [
    "#Example\n",
    "#Create a class named firstClass, with a property named x:\n",
    "\n",
    "class firstClass:\n",
    "  py=\"Hello Python\"\n",
    "print(firstClass)"
   ]
  },
  {
   "cell_type": "markdown",
   "id": "e3282db8",
   "metadata": {},
   "source": [
    "### Create Object\n",
    "Now we can use the class named firstClass to create objects:"
   ]
  },
  {
   "cell_type": "code",
   "execution_count": 34,
   "id": "60286d0e",
   "metadata": {},
   "outputs": [
    {
     "name": "stdout",
     "output_type": "stream",
     "text": [
      "Hello Python\n"
     ]
    }
   ],
   "source": [
    "#Example\n",
    "#Create an object named p1, and print the value of x:\n",
    "\n",
    "obj1 = firstClass()\n",
    "print(obj1.py)"
   ]
  },
  {
   "cell_type": "markdown",
   "id": "4b4965bf",
   "metadata": {},
   "source": [
    "<pre style=\"font-size:16px\"><b>The __init__() Function<b></pre>"
   ]
  },
  {
   "cell_type": "markdown",
   "id": "8c8aa104",
   "metadata": {},
   "source": [
    "<pre>To understand the meaning of classes we have to understand the built-in __init__() function.It's basicaly Constructor\n",
    "\n",
    "All classes have a function called __init__(), which is always executed when the class is being initiated.\n",
    "\n",
    "Use the __init__() function to assign values to object properties, or other operations that are necessary to do when the object is being created:</pre>"
   ]
  },
  {
   "cell_type": "code",
   "execution_count": 35,
   "id": "5852134d",
   "metadata": {},
   "outputs": [
    {
     "name": "stdout",
     "output_type": "stream",
     "text": [
      "John\n",
      "36\n"
     ]
    }
   ],
   "source": [
    "#Example\n",
    "#Create a class named Person, use the __init__() function to assign values for name and age:\n",
    "\n",
    "class Person:\n",
    "  def __init__(self, name, age):\n",
    "    self.name = name\n",
    "    self.age = age\n",
    "\n",
    "p1 = Person(\"John\", 36)\n",
    "\n",
    "print(p1.name)\n",
    "print(p1.age)\n"
   ]
  },
  {
   "cell_type": "markdown",
   "id": "716f3d84",
   "metadata": {},
   "source": [
    "# Object Methods"
   ]
  },
  {
   "cell_type": "markdown",
   "id": "c27d48d0",
   "metadata": {},
   "source": [
    "Objects can also contain methods. Methods in objects are functions that belong to the object.\n",
    "\n",
    "Let us create a method in the Person class:"
   ]
  },
  {
   "cell_type": "code",
   "execution_count": 36,
   "id": "cd10e75e",
   "metadata": {},
   "outputs": [
    {
     "name": "stdout",
     "output_type": "stream",
     "text": [
      "Hello my name is John\n"
     ]
    }
   ],
   "source": [
    "#Example\n",
    "#Insert a function that prints a greeting, and execute it on the p1 object:\n",
    "\n",
    "class Person:\n",
    "  def __init__(self, name, age):\n",
    "    self.name = name\n",
    "    self.age = age\n",
    "\n",
    "  def myfunc(self):\n",
    "    print(\"Hello my name is \" + self.name)\n",
    "\n",
    "p1 = Person(\"John\", 36)\n",
    "p1.myfunc()"
   ]
  },
  {
   "cell_type": "markdown",
   "id": "b24f80c2",
   "metadata": {},
   "source": [
    "## The self Parameter"
   ]
  },
  {
   "cell_type": "markdown",
   "id": "d3b81453",
   "metadata": {},
   "source": [
    "The self parameter is a reference to the current instance of the class, and is used to access variables that belongs to the class.\n",
    "\n",
    "It does not have to be named self , you can call it whatever you like, but it has to be the first parameter of any function in the class:"
   ]
  },
  {
   "cell_type": "code",
   "execution_count": 37,
   "id": "eb18fb5b",
   "metadata": {},
   "outputs": [
    {
     "name": "stdout",
     "output_type": "stream",
     "text": [
      "Hello my name is John\n"
     ]
    }
   ],
   "source": [
    "#Example\n",
    "#Use the words mysillyobject and abc instead of self:\n",
    "\n",
    "class Person:\n",
    "  def __init__(mysillyobject, name, age):\n",
    "    mysillyobject.name = name\n",
    "    mysillyobject.age = age\n",
    "\n",
    "  def myfunc(abc):\n",
    "    print(\"Hello my name is \" + abc.name)\n",
    "\n",
    "p1 = Person(\"John\", 36)\n",
    "p1.myfunc()"
   ]
  },
  {
   "cell_type": "markdown",
   "id": "4108ba67",
   "metadata": {},
   "source": [
    "## Modify Object Properties"
   ]
  },
  {
   "cell_type": "markdown",
   "id": "46e5e8c5",
   "metadata": {},
   "source": [
    "We can modify properties on objects like this:\n",
    "\n",
    "Example\n",
    "Set the age of p1 to 40:"
   ]
  },
  {
   "cell_type": "code",
   "execution_count": 39,
   "id": "4214d2b4",
   "metadata": {},
   "outputs": [
    {
     "name": "stdout",
     "output_type": "stream",
     "text": [
      "40\n"
     ]
    }
   ],
   "source": [
    "p1.age = 40\n",
    "\n",
    "print(p1.age)"
   ]
  },
  {
   "cell_type": "markdown",
   "id": "19f8273f",
   "metadata": {},
   "source": [
    "### Delete Object Properties and Delete Objects"
   ]
  },
  {
   "cell_type": "code",
   "execution_count": 40,
   "id": "815940ed",
   "metadata": {},
   "outputs": [],
   "source": [
    "#We can delete properties on objects by using the del keyword:\n",
    "\n",
    "#Example\n",
    "#Delete the age property from the p1 object:\n",
    "\n",
    "del p1.age"
   ]
  },
  {
   "cell_type": "code",
   "execution_count": 41,
   "id": "c58de699",
   "metadata": {},
   "outputs": [],
   "source": [
    "#we can delete objects by using the del keyword:\n",
    "\n",
    "#Example\n",
    "#Delete the p1 object:\n",
    "\n",
    "del p1"
   ]
  },
  {
   "cell_type": "markdown",
   "id": "8bf8c930",
   "metadata": {},
   "source": [
    "### The pass Statement\n",
    "\n",
    "class definitions cannot be empty, but if you for some reason have a class definition with no content, put in the pass statement to avoid getting an error."
   ]
  },
  {
   "cell_type": "code",
   "execution_count": 43,
   "id": "092b8ee6",
   "metadata": {},
   "outputs": [],
   "source": [
    "#Example\n",
    "class Person:\n",
    "  pass\n",
    "\n",
    "# having an empty class definition like this, would raise an error without the pass statement"
   ]
  },
  {
   "cell_type": "markdown",
   "id": "b510f2ea",
   "metadata": {},
   "source": [
    "# Inheritance"
   ]
  },
  {
   "cell_type": "markdown",
   "id": "c55f5754",
   "metadata": {},
   "source": [
    "Inheritance allows us to define a class that inherits all the methods and properties from another class.\n",
    "\n",
    "- Parent class is the class being inherited from, also called base class.\n",
    "- Child class is the class that inherits from another class, also called derived class."
   ]
  },
  {
   "cell_type": "markdown",
   "id": "15762599",
   "metadata": {},
   "source": [
    "### Create a Parent Class\n",
    "\n",
    "Any class can be a parent class, so the syntax is the same as creating any other class"
   ]
  },
  {
   "cell_type": "code",
   "execution_count": 44,
   "id": "a3966e6f",
   "metadata": {},
   "outputs": [
    {
     "name": "stdout",
     "output_type": "stream",
     "text": [
      "John Doe\n"
     ]
    }
   ],
   "source": [
    "#Example\n",
    "#Create a class named Person, with firstname and lastname properties, and a printname method:\n",
    "\n",
    "class Person:\n",
    "  def __init__(self, fname, lname):\n",
    "    self.firstname = fname\n",
    "    self.lastname = lname\n",
    "\n",
    "  def printname(self):\n",
    "    print(self.firstname, self.lastname)\n",
    "\n",
    "#Use the Person class to create an object, and then execute the printname method:\n",
    "\n",
    "x = Person(\"John\", \"Doe\")\n",
    "x.printname()\n"
   ]
  },
  {
   "cell_type": "markdown",
   "id": "f9e3d5db",
   "metadata": {},
   "source": [
    "### Create a Child Class\n",
    "\n",
    "To create a class that inherits the functionality from another class, send the parent class as a parameter when creating the child class"
   ]
  },
  {
   "cell_type": "code",
   "execution_count": 45,
   "id": "23f7a90c",
   "metadata": {},
   "outputs": [],
   "source": [
    "#Example\n",
    "#Create a class named Student, which will inherit the properties and methods from the Person class:\n",
    "\n",
    "class Student(Person):\n",
    "  pass"
   ]
  },
  {
   "cell_type": "markdown",
   "id": "9ec3a586",
   "metadata": {},
   "source": [
    "- Now the Student class has the same properties and methods as the Person class."
   ]
  },
  {
   "cell_type": "code",
   "execution_count": 47,
   "id": "a4734abe",
   "metadata": {},
   "outputs": [
    {
     "name": "stdout",
     "output_type": "stream",
     "text": [
      "Mike Olsen\n"
     ]
    }
   ],
   "source": [
    "#Example\n",
    "#Use the Student class to create an object, and then execute the printname method:\n",
    "\n",
    "x = Student(\"Mike\", \"Olsen\")\n",
    "x.printname()"
   ]
  },
  {
   "cell_type": "markdown",
   "id": "ca44040f",
   "metadata": {},
   "source": [
    "<pre><b>Add the __init__() Function</b></pre>"
   ]
  },
  {
   "cell_type": "code",
   "execution_count": 50,
   "id": "001b03cb",
   "metadata": {},
   "outputs": [],
   "source": [
    "#Example\n",
    "#Add the __init__() function to the Student class:\n",
    "\n",
    "class Student(Person):\n",
    "  def __init__(self, fname, lname):\n",
    "     Person.__init__(self, fname, lname)"
   ]
  },
  {
   "cell_type": "markdown",
   "id": "9770622a",
   "metadata": {},
   "source": [
    "<pre>When we add the __init__() function, the child class will no longer inherit the parent's __init__() function.\n",
    "To the inheritance of the parent's __init__() function, add a call to the parent's __init__() function</pre>\n",
    "<b>Use the super() Function</b><br>\n",
    "Python also has a super() function that will make the child class inherit all the methods and properties from its parent:"
   ]
  },
  {
   "cell_type": "code",
   "execution_count": 51,
   "id": "1413c5be",
   "metadata": {},
   "outputs": [],
   "source": [
    "class Student(Person):\n",
    "  def __init__(self, fname, lname):\n",
    "    super().__init__(fname, lname)"
   ]
  },
  {
   "cell_type": "markdown",
   "id": "aef78019",
   "metadata": {},
   "source": [
    "With properties and Methods :"
   ]
  },
  {
   "cell_type": "code",
   "execution_count": 52,
   "id": "2be1bef2",
   "metadata": {},
   "outputs": [
    {
     "name": "stdout",
     "output_type": "stream",
     "text": [
      "Welcome Mike Olsen to the class of 2019\n"
     ]
    }
   ],
   "source": [
    "class Person:\n",
    "  def __init__(self, fname, lname):\n",
    "    self.firstname = fname\n",
    "    self.lastname = lname\n",
    "\n",
    "  def printname(self):\n",
    "    print(self.firstname, self.lastname)\n",
    "\n",
    "class Student(Person):\n",
    "  def __init__(self, fname, lname, year):\n",
    "    super().__init__(fname, lname)\n",
    "    self.graduationyear = year\n",
    "\n",
    "  def welcome(self):\n",
    "    print(\"Welcome\", self.firstname, self.lastname, \"to the class of\", self.graduationyear)\n",
    "\n",
    "x = Student(\"Mike\", \"Olsen\", 2019)\n",
    "x.welcome()"
   ]
  },
  {
   "cell_type": "markdown",
   "id": "c67033ea",
   "metadata": {},
   "source": [
    "# Iterators"
   ]
  },
  {
   "cell_type": "markdown",
   "id": "05eba573",
   "metadata": {},
   "source": [
    "- An iterator is an object that contains a countable number of values.\n",
    "- An iterator is an object that can be iterated through.\n",
    "\n",
    "<p>An iterator is an object which implements the iterator protocol, which consist of the methods __iter__() and __next__().</p>"
   ]
  },
  {
   "cell_type": "markdown",
   "id": "59d7c891",
   "metadata": {},
   "source": [
    "### Iterator - Iterable\n",
    "- Lists, tuples, dictionaries, and sets are all iterable objects. \n",
    "- They are iterable containers which you can get an iterator from.\n",
    "\n",
    "All these objects have a iter() method which is used to get an iterator."
   ]
  },
  {
   "cell_type": "code",
   "execution_count": 53,
   "id": "3b2441e0",
   "metadata": {},
   "outputs": [
    {
     "name": "stdout",
     "output_type": "stream",
     "text": [
      "Naruto\n",
      "Haikyu\n",
      "DeathNote\n"
     ]
    }
   ],
   "source": [
    "#Example\n",
    "#Return an iterator from a tuple, and print each value:\n",
    "\n",
    "tuple1 = (\"Naruto\", \"Haikyu\", \"DeathNote\")\n",
    "it1 = iter(tuple1)\n",
    "\n",
    "print(next(it1))\n",
    "print(next(it1))\n",
    "print(next(it1))"
   ]
  },
  {
   "cell_type": "code",
   "execution_count": 54,
   "id": "303efad3",
   "metadata": {},
   "outputs": [
    {
     "name": "stdout",
     "output_type": "stream",
     "text": [
      "p\n",
      "y\n",
      "t\n",
      "h\n",
      "o\n",
      "n\n"
     ]
    }
   ],
   "source": [
    "#Example\n",
    "#Strings are also iterable objects, containing a sequence of characters:\n",
    "\n",
    "str1 = \"python\"\n",
    "it = iter(str1)\n",
    "\n",
    "print(next(it))\n",
    "print(next(it))\n",
    "print(next(it))\n",
    "print(next(it))\n",
    "print(next(it))\n",
    "print(next(it))"
   ]
  },
  {
   "cell_type": "markdown",
   "id": "e6ae6ef8",
   "metadata": {},
   "source": [
    "### Looping Through an Iterator\n",
    "We can also use a for loop to iterate through an iterable object:"
   ]
  },
  {
   "cell_type": "code",
   "execution_count": 55,
   "id": "9974b363",
   "metadata": {},
   "outputs": [
    {
     "name": "stdout",
     "output_type": "stream",
     "text": [
      "Naruto\n",
      "Haikyu\n",
      "DeathNote\n"
     ]
    }
   ],
   "source": [
    "#Example\n",
    "#Iterate the values of a tuple:\n",
    "\n",
    "tuple1 = (\"Naruto\", \"Haikyu\", \"DeathNote\")\n",
    "\n",
    "for s in tuple1:\n",
    "  print(s)"
   ]
  },
  {
   "cell_type": "code",
   "execution_count": 57,
   "id": "f148afea",
   "metadata": {},
   "outputs": [
    {
     "name": "stdout",
     "output_type": "stream",
     "text": [
      "p\n",
      "y\n",
      "t\n",
      "h\n",
      "o\n",
      "n\n"
     ]
    }
   ],
   "source": [
    "#Example\n",
    "#Iterate the characters of a string:\n",
    "\n",
    "str1 = \"python\"\n",
    "for s in str1:\n",
    "  print(s)"
   ]
  },
  {
   "cell_type": "markdown",
   "id": "427682db",
   "metadata": {},
   "source": [
    "# Variable Scope\n",
    "A variable is only available from inside the region it is created. This is called scope."
   ]
  },
  {
   "cell_type": "markdown",
   "id": "0361f65c",
   "metadata": {},
   "source": [
    "### Local Scope\n",
    "A variable created inside a function belongs to the local scope of that function, and can only be used inside that function."
   ]
  },
  {
   "cell_type": "code",
   "execution_count": 73,
   "id": "f5f57d94",
   "metadata": {},
   "outputs": [
    {
     "name": "stdout",
     "output_type": "stream",
     "text": [
      "895\n"
     ]
    }
   ],
   "source": [
    "#Example\n",
    "#A variable created inside a function is available inside that function:\n",
    "def func():\n",
    "  o = 895\n",
    "  print(o)\n",
    "\n",
    "func()\n"
   ]
  },
  {
   "cell_type": "code",
   "execution_count": 74,
   "id": "0e3096e6",
   "metadata": {
    "scrolled": true
   },
   "outputs": [
    {
     "ename": "NameError",
     "evalue": "name 'o' is not defined",
     "output_type": "error",
     "traceback": [
      "\u001b[1;31m---------------------------------------------------------------------------\u001b[0m",
      "\u001b[1;31mNameError\u001b[0m                                 Traceback (most recent call last)",
      "\u001b[1;32m~\\AppData\\Local\\Temp/ipykernel_10344/2958506656.py\u001b[0m in \u001b[0;36m<module>\u001b[1;34m\u001b[0m\n\u001b[1;32m----> 1\u001b[1;33m \u001b[0mprint\u001b[0m\u001b[1;33m(\u001b[0m\u001b[0mo\u001b[0m\u001b[1;33m)\u001b[0m\u001b[1;33m\u001b[0m\u001b[1;33m\u001b[0m\u001b[0m\n\u001b[0m",
      "\u001b[1;31mNameError\u001b[0m: name 'o' is not defined"
     ]
    }
   ],
   "source": [
    "print(o)"
   ]
  },
  {
   "cell_type": "markdown",
   "id": "1b8e0efb",
   "metadata": {},
   "source": [
    "### Global Scope\n",
    "A variable created in the main body of the Python code is a global variable and belongs to the global scope.\n",
    "\n",
    "Global variables are available from within any scope, global and local."
   ]
  },
  {
   "cell_type": "code",
   "execution_count": 59,
   "id": "6785c1e6",
   "metadata": {},
   "outputs": [
    {
     "name": "stdout",
     "output_type": "stream",
     "text": [
      "879\n",
      "879\n"
     ]
    }
   ],
   "source": [
    "#Example\n",
    "#A variable created outside of a function is global and can be used by anyone:\n",
    "\n",
    "h = 879\n",
    "\n",
    "def ffunc():\n",
    "  print(h)\n",
    "\n",
    "ffunc()\n",
    "\n",
    "print(h)"
   ]
  },
  {
   "cell_type": "markdown",
   "id": "dca408c5",
   "metadata": {},
   "source": [
    "#### Same name diferent scope Variables\n",
    "If we operate with the same variable name inside and outside of a function, Python will treat them as two separate variables, one available in the global scope (outside the function) and one available in the local scope (inside the function):\n"
   ]
  },
  {
   "cell_type": "code",
   "execution_count": 75,
   "id": "1c08029e",
   "metadata": {},
   "outputs": [
    {
     "name": "stdout",
     "output_type": "stream",
     "text": [
      "356\n",
      "956\n"
     ]
    }
   ],
   "source": [
    "#Example\n",
    "#The function will print the local x, and then the code will print the global x:\n",
    "\n",
    "y = 956\n",
    "\n",
    "def funcn():\n",
    "  y = 356\n",
    "  print(y)\n",
    "\n",
    "funcn()\n",
    "\n",
    "print(y)"
   ]
  },
  {
   "cell_type": "markdown",
   "id": "a15caf76",
   "metadata": {},
   "source": [
    "## Global Keyword\n",
    "If we need to create a global variable, but are stuck in the local scope, we can use the global keyword.<br>\n",
    "The global keyword makes the variable global."
   ]
  },
  {
   "cell_type": "code",
   "execution_count": 76,
   "id": "43e33862",
   "metadata": {},
   "outputs": [
    {
     "name": "stdout",
     "output_type": "stream",
     "text": [
      "986\n"
     ]
    }
   ],
   "source": [
    "#Example\n",
    "#If you use the global keyword, the variable belongs to the global scope:\n",
    "\n",
    "def funct():\n",
    "  global n\n",
    "  n = 986\n",
    "\n",
    "funct()\n",
    "\n",
    "print(n)"
   ]
  },
  {
   "cell_type": "markdown",
   "id": "b2d3176b",
   "metadata": {},
   "source": [
    "- Also, use the global keyword if we want to make a change to a global variable inside a function."
   ]
  },
  {
   "cell_type": "code",
   "execution_count": 77,
   "id": "7e512392",
   "metadata": {},
   "outputs": [
    {
     "name": "stdout",
     "output_type": "stream",
     "text": [
      "745\n"
     ]
    }
   ],
   "source": [
    "#Example\n",
    "#To change the value of a global variable inside a function, refer to the variable by using the global keyword:\n",
    "\n",
    "i = 859\n",
    "\n",
    "def funt():\n",
    "  global i\n",
    "  i = 745\n",
    "\n",
    "funt()\n",
    "\n",
    "print(i)"
   ]
  },
  {
   "cell_type": "markdown",
   "id": "c0c738e5",
   "metadata": {},
   "source": [
    "## Dates\n",
    "A date in Python is not a data type of its own, but we can import a module named datetime to work with dates as date objects."
   ]
  },
  {
   "cell_type": "code",
   "execution_count": 79,
   "id": "33efbac0",
   "metadata": {},
   "outputs": [
    {
     "name": "stdout",
     "output_type": "stream",
     "text": [
      "2022-01-11 22:22:04.810985\n"
     ]
    }
   ],
   "source": [
    "#Example\n",
    "#Import the datetime module and display the current date:\n",
    "\n",
    "import datetime\n",
    "\n",
    "t = datetime.datetime.now()\n",
    "print(t)"
   ]
  },
  {
   "cell_type": "code",
   "execution_count": 94,
   "id": "a9ce5dd1",
   "metadata": {},
   "outputs": [
    {
     "name": "stdout",
     "output_type": "stream",
     "text": [
      "01/11/22\n",
      "Tuesday\n"
     ]
    }
   ],
   "source": [
    "#Example\n",
    "#Return the year and name of weekday:\n",
    "\n",
    "import datetime\n",
    "\n",
    "t = datetime.datetime.now()\n",
    "\n",
    "print(t.strftime(\"%x\"))\n",
    "print(t.strftime(\"%A\"))"
   ]
  },
  {
   "cell_type": "markdown",
   "id": "c7203f3c",
   "metadata": {},
   "source": [
    "# Math"
   ]
  },
  {
   "cell_type": "markdown",
   "id": "ee796b5b",
   "metadata": {},
   "source": [
    "Python has built-in math functions, including an extensive math module, that allows us to perform mathematical tasks on numbers."
   ]
  },
  {
   "cell_type": "markdown",
   "id": "38db9e0a",
   "metadata": {},
   "source": [
    "## Math Functions"
   ]
  },
  {
   "cell_type": "markdown",
   "id": "72a50f6b",
   "metadata": {},
   "source": [
    "- The min() and max() functions"
   ]
  },
  {
   "cell_type": "code",
   "execution_count": 95,
   "id": "762b55cd",
   "metadata": {},
   "outputs": [
    {
     "name": "stdout",
     "output_type": "stream",
     "text": [
      "11\n",
      "65\n"
     ]
    }
   ],
   "source": [
    "#Example\n",
    "p = min(11, 28, 42)\n",
    "y = max(21, 35, 65)\n",
    "\n",
    "print(p)\n",
    "print(y)"
   ]
  },
  {
   "cell_type": "markdown",
   "id": "193a1d55",
   "metadata": {},
   "source": [
    "- The abs() function returns the absolute (positive) value"
   ]
  },
  {
   "cell_type": "code",
   "execution_count": 98,
   "id": "134cdbd2",
   "metadata": {},
   "outputs": [
    {
     "name": "stdout",
     "output_type": "stream",
     "text": [
      "16.25\n"
     ]
    }
   ],
   "source": [
    "#Example\n",
    "h = abs(-16.25)\n",
    "\n",
    "print(h)"
   ]
  },
  {
   "cell_type": "markdown",
   "id": "e00f49e3",
   "metadata": {},
   "source": [
    "- The pow(x, y) function returns the value of x to the power of y (x<sup>y</sup>)."
   ]
  },
  {
   "cell_type": "code",
   "execution_count": 101,
   "id": "b63e63f7",
   "metadata": {},
   "outputs": [
    {
     "name": "stdout",
     "output_type": "stream",
     "text": [
      "49\n"
     ]
    }
   ],
   "source": [
    "#Example\n",
    "#Return the value of Number to the power of Degree (same as 7^2):\n",
    "\n",
    "p = pow(7, 2)\n",
    "\n",
    "print(p)"
   ]
  },
  {
   "cell_type": "markdown",
   "id": "371feae3",
   "metadata": {},
   "source": [
    "## Math Module\n",
    "\n",
    "A built-in module called math that has the list of mathematical functions which we can use directly by function call."
   ]
  },
  {
   "cell_type": "code",
   "execution_count": 103,
   "id": "c747be52",
   "metadata": {},
   "outputs": [
    {
     "name": "stdout",
     "output_type": "stream",
     "text": [
      "11.0\n"
     ]
    }
   ],
   "source": [
    "#Example\n",
    "#The math.sqrt() method for example, returns the square root of a number:\n",
    "import math\n",
    "\n",
    "x = math.sqrt(121)\n",
    "\n",
    "print(x)"
   ]
  },
  {
   "cell_type": "markdown",
   "id": "5728e063",
   "metadata": {},
   "source": [
    "- The math.ceil() and he math.floor() method "
   ]
  },
  {
   "cell_type": "code",
   "execution_count": 106,
   "id": "4cc8bdcc",
   "metadata": {},
   "outputs": [
    {
     "name": "stdout",
     "output_type": "stream",
     "text": [
      "3\n",
      "2\n"
     ]
    }
   ],
   "source": [
    "#Example\n",
    "a = math.ceil(2.6)\n",
    "b = math.floor(2.6)\n",
    "\n",
    "print(a) # returns 3\n",
    "print(b) # returns 2"
   ]
  },
  {
   "cell_type": "markdown",
   "id": "eff1ea58",
   "metadata": {},
   "source": [
    "# JSON in Python\n",
    "- JSON is a syntax for storing and exchanging data.\n",
    "- JSON is text, written with JavaScript object notation.<br>\n",
    "\n",
    "python has a built-in package called <b>json</b>, which can be used to work with JSON data."
   ]
  },
  {
   "cell_type": "markdown",
   "id": "e242b6eb",
   "metadata": {},
   "source": [
    "## Parse JSON - Convert from JSON to Python\n",
    "If we have a JSON string, we can parse it by using the json.loads() method."
   ]
  },
  {
   "cell_type": "code",
   "execution_count": 107,
   "id": "558d79ef",
   "metadata": {},
   "outputs": [
    {
     "name": "stdout",
     "output_type": "stream",
     "text": [
      "Jack\n"
     ]
    }
   ],
   "source": [
    "#Example\n",
    "#Import the json module:\n",
    "#Convert from JSON to Python:\n",
    "\n",
    "import json\n",
    "\n",
    "# JSON:\n",
    "j =  '{ \"name\":\"Jack\", \"age\":24, \"city\":\"Berlin\", \"work\":\"SDE\"}'\n",
    "\n",
    "# parse p:\n",
    "p = json.loads(j)\n",
    "\n",
    "# the result is a Python dictionary:\n",
    "print(p[\"name\"])"
   ]
  },
  {
   "cell_type": "markdown",
   "id": "f2fb3328",
   "metadata": {},
   "source": [
    "## Convert from Python to JSON\n",
    "If we have a Python object, we can convert it into a JSON string by using the json.dumps() method."
   ]
  },
  {
   "cell_type": "code",
   "execution_count": 108,
   "id": "551da70d",
   "metadata": {},
   "outputs": [
    {
     "name": "stdout",
     "output_type": "stream",
     "text": [
      "{\"name\": \"Jack\", \"age\": 24, \"city\": \"Berlin\", \"work\": \"SDE\"}\n"
     ]
    }
   ],
   "source": [
    "#Example\n",
    "#Convert from Python to JSON:\n",
    "\n",
    "import json\n",
    "\n",
    "# a Python object (dict):\n",
    "p = {\n",
    "  \"name\": \"Jack\",\n",
    "  \"age\": 24,\n",
    "  \"city\": \"Berlin\",\n",
    "  \"work\":\"SDE\"\n",
    "}\n",
    "\n",
    "# convert into JSON:\n",
    "j = json.dumps(p)\n",
    "\n",
    "# the result is a JSON string:\n",
    "print(j)"
   ]
  },
  {
   "cell_type": "markdown",
   "id": "6c0a66cc",
   "metadata": {},
   "source": [
    "<b>We can convert Python objects of the following types, into JSON strings:</b>\n",
    "\n",
    "- dict\n",
    "- list\n",
    "- tuple\n",
    "- string\n",
    "- int\n",
    "- float\n",
    "- True\n",
    "- False\n",
    "- None"
   ]
  },
  {
   "cell_type": "code",
   "execution_count": 110,
   "id": "57436c86",
   "metadata": {},
   "outputs": [
    {
     "name": "stdout",
     "output_type": "stream",
     "text": [
      "{\"name\": \"Jack\", \"city\": \"Berlin\"}\n",
      "[\"bluebery\", \"strawberry\"]\n",
      "[\"pineapple\", \"papaya\"]\n",
      "\"python\"\n",
      "49\n",
      "3.14\n",
      "true\n",
      "false\n",
      "null\n"
     ]
    }
   ],
   "source": [
    "#Example\n",
    "#Convert Python objects into JSON strings, and print the values:\n",
    "\n",
    "import json\n",
    "\n",
    "print(json.dumps({\"name\": \"Jack\", \"city\": \"Berlin\"}))\n",
    "print(json.dumps([\"bluebery\", \"strawberry\"]))\n",
    "print(json.dumps((\"pineapple\", \"papaya\")))\n",
    "print(json.dumps(\"python\"))\n",
    "print(json.dumps(49))\n",
    "print(json.dumps(3.14))\n",
    "print(json.dumps(True))\n",
    "print(json.dumps(False))\n",
    "print(json.dumps(None))"
   ]
  },
  {
   "cell_type": "markdown",
   "id": "1f5c2c1c",
   "metadata": {},
   "source": [
    "<pre><b>- When We convert from Python to JSON, Python objects are converted into the JSON (JavaScript) equivalent:\n",
    "\n",
    "Python\tJSON</b>\n",
    "dict\t Object\n",
    "list\t Array\n",
    "tuple\tArray\n",
    "str\t  String\n",
    "int\t  Number\n",
    "float\tNumber\n",
    "True\t true\n",
    "False    false\n",
    "None\t null</pre>"
   ]
  },
  {
   "cell_type": "code",
   "execution_count": 113,
   "id": "7a2be206",
   "metadata": {},
   "outputs": [
    {
     "name": "stdout",
     "output_type": "stream",
     "text": [
      "{\"name\": \"Jack\", \"age\": 24, \"married\": false, \"divorced\": false, \"pets\": null, \"cars\": [{\"model\": \"BMW 230\", \"mpg\": 27.5}, {\"model\": \"Tesla\", \"mpg\": 24.1}]}\n"
     ]
    }
   ],
   "source": [
    "#Example\n",
    "#Convert a Python object containing all the legal data types:\n",
    "\n",
    "import json\n",
    "\n",
    "p = {\n",
    "  \"name\": \"Jack\",\n",
    "  \"age\": 24,\n",
    "  \"married\": False,\n",
    "  \"divorced\": False,\n",
    "  \"pets\": None,\n",
    "  \"cars\": [\n",
    "    {\"model\": \"BMW 230\", \"mpg\": 27.5},\n",
    "    {\"model\": \"Tesla\", \"mpg\": 24.1}\n",
    "  ]\n",
    "}\n",
    "\n",
    "# convert into JSON:\n",
    "j = json.dumps(p)\n",
    "\n",
    "# the result is a JSON string:\n",
    "print(j)\n"
   ]
  },
  {
   "cell_type": "code",
   "execution_count": 117,
   "id": "b33d5bc1",
   "metadata": {},
   "outputs": [
    {
     "name": "stdout",
     "output_type": "stream",
     "text": [
      "{\n",
      "    \"name\": \"Jack\",\n",
      "    \"age\": 24,\n",
      "    \"married\": false,\n",
      "    \"divorced\": false,\n",
      "    \"pets\": null,\n",
      "    \"cars\": [\n",
      "        {\n",
      "            \"model\": \"BMW 230\",\n",
      "            \"mpg\": 27.5\n",
      "        },\n",
      "        {\n",
      "            \"model\": \"Tesla\",\n",
      "            \"mpg\": 24.1\n",
      "        }\n",
      "    ]\n",
      "}\n"
     ]
    }
   ],
   "source": [
    "#The json.dumps() method has parameters to make it easier to read the result:\n",
    "#Example\n",
    "#Use the indent parameter to define the numbers of indents:\n",
    "\n",
    "print(json.dumps(p, indent=4))\n"
   ]
  },
  {
   "cell_type": "markdown",
   "id": "1e5fe3d3",
   "metadata": {},
   "source": [
    "# RegEx Module\n",
    "Python has a built-in package called re, which can be used to work with Regular Expressions."
   ]
  },
  {
   "cell_type": "code",
   "execution_count": 121,
   "id": "067219af",
   "metadata": {},
   "outputs": [
    {
     "name": "stdout",
     "output_type": "stream",
     "text": [
      "YES! match!\n",
      "<re.Match object; span=(0, 23), match='The snowfall in Toronto'>\n"
     ]
    }
   ],
   "source": [
    "#Example\n",
    "#Search the string to see if it starts with \"The\" and ends with \"Spain\":\n",
    "\n",
    "import re\n",
    "\n",
    "st = \"The snowfall in Toronto\"\n",
    "p = re.search(\"^The.*Toronto$\", st)\n",
    "\n",
    "if p:\n",
    "  print(\"YES! match!\")\n",
    "else:\n",
    "  print(\"No match\")\n",
    "\n",
    "print(p)"
   ]
  },
  {
   "cell_type": "code",
   "execution_count": 124,
   "id": "e2223c79",
   "metadata": {},
   "outputs": [
    {
     "name": "stdout",
     "output_type": "stream",
     "text": [
      "['no']\n"
     ]
    }
   ],
   "source": [
    "#The findall() Function returns a list containing all matches.\n",
    "\n",
    "#Example\n",
    "#Print a list of all matches:\n",
    "\n",
    "import re\n",
    "\n",
    "st = \"The snowfall in Toronto\"\n",
    "p = re.findall(\"no\", st)\n",
    "print(p)"
   ]
  },
  {
   "cell_type": "code",
   "execution_count": 125,
   "id": "abd5a2a4",
   "metadata": {},
   "outputs": [
    {
     "name": "stdout",
     "output_type": "stream",
     "text": [
      "[]\n"
     ]
    }
   ],
   "source": [
    "#The list contains the matches in the order they are found.\n",
    "#If no matches are found, an empty list is returned:\n",
    "\n",
    "#Example\n",
    "#Return an empty list if no match was found:\n",
    "\n",
    "import re\n",
    "\n",
    "st = \"The snowfall in Toronto\"\n",
    "p = re.findall(\"Canada\", st)\n",
    "print(p)"
   ]
  },
  {
   "cell_type": "code",
   "execution_count": 129,
   "id": "3debd7fd",
   "metadata": {},
   "outputs": [
    {
     "name": "stdout",
     "output_type": "stream",
     "text": [
      "The 1st white-space at index: 3\n"
     ]
    }
   ],
   "source": [
    "#The search() Function searches the string for a match, and returns a Match object if there is a match.\n",
    "#If there is more than one match, only the first occurrence of the match will be returned:\n",
    "\n",
    "#Example\n",
    "#Search for the first white-space character in the string:\n",
    "\n",
    "import re\n",
    "\n",
    "st = \"The snowfall in Toronto\"\n",
    "p = re.search(\"\\s\", txt)\n",
    "\n",
    "print(\"The 1st white-space at index:\", p.start())"
   ]
  },
  {
   "cell_type": "code",
   "execution_count": 133,
   "id": "356f61f1",
   "metadata": {},
   "outputs": [
    {
     "name": "stdout",
     "output_type": "stream",
     "text": [
      "None\n"
     ]
    }
   ],
   "source": [
    "#If no matches are found, the value None is returned:\n",
    "\n",
    "#Example\n",
    "#Make a search that returns no match:\n",
    "\n",
    "import re\n",
    "\n",
    "st = \"The snowfall in Toronto\"\n",
    "p = re.search(\"Canada\", st)\n",
    "print(p)"
   ]
  },
  {
   "cell_type": "code",
   "execution_count": 136,
   "id": "a0bee111",
   "metadata": {},
   "outputs": [
    {
     "name": "stdout",
     "output_type": "stream",
     "text": [
      "['The', 'snowfall', 'in', 'Toronto']\n"
     ]
    }
   ],
   "source": [
    "#The split() Function returns a list where the string has been split at each match:\n",
    "\n",
    "#Example\n",
    "#Split at each white-space character:\n",
    "\n",
    "import re\n",
    "\n",
    "st = \"The snowfall in Toronto\"\n",
    "p = re.split(\"\\s\", st)\n",
    "print(p)"
   ]
  },
  {
   "cell_type": "code",
   "execution_count": 138,
   "id": "51defae9",
   "metadata": {},
   "outputs": [
    {
     "name": "stdout",
     "output_type": "stream",
     "text": [
      "['The', 'snowfall', 'in Toronto']\n"
     ]
    }
   ],
   "source": [
    "#We can control the number of occurrences by specifying the maxsplit parameter:\n",
    "\n",
    "#Example\n",
    "#Split the string only at the first occurrence:\n",
    "\n",
    "import re\n",
    "\n",
    "st = \"The snowfall in Toronto\"\n",
    "p = re.split(\"\\s\", st,2)\n",
    "print(p)"
   ]
  },
  {
   "cell_type": "code",
   "execution_count": 142,
   "id": "8df7ab29",
   "metadata": {},
   "outputs": [
    {
     "name": "stdout",
     "output_type": "stream",
     "text": [
      "The9snowfall9in9Toronto\n",
      "The9snowfall in Toronto\n"
     ]
    }
   ],
   "source": [
    "#The sub() Function replaces the matches with the text of your choice:\n",
    "\n",
    "#Example\n",
    "#Replace every white-space character with the number 9:\n",
    "\n",
    "import re\n",
    "\n",
    "st = \"The snowfall in Toronto\"\n",
    "p = re.sub(\"\\s\",\"9\", st)\n",
    "print(p)\n",
    "\n",
    "#we can control the number of replacements by specifying the count parameter:\n",
    "p = re.sub(\"\\s\",\"9\", st,1)\n",
    "print(p)"
   ]
  },
  {
   "cell_type": "markdown",
   "id": "366e7f50",
   "metadata": {},
   "source": [
    "# Try Except\n",
    "- The <b>try</b> block lets us test a block of code for errors.\n",
    "- The <b>except</b> block lets us handle the error.\n",
    "- The <b>finally</b> block lets us execute code, regardless of the result of the try- and except blocks."
   ]
  },
  {
   "cell_type": "markdown",
   "id": "ea4f5c3e",
   "metadata": {},
   "source": [
    "### Exception Handling\n",
    "When an error occurs, or exception as we call it, Python will normally stop and generate an error message.\n",
    "\n",
    "These exceptions can be handled using the try statement:"
   ]
  },
  {
   "cell_type": "code",
   "execution_count": 145,
   "id": "23c26e76",
   "metadata": {},
   "outputs": [
    {
     "name": "stdout",
     "output_type": "stream",
     "text": [
      "An exception occurred\n"
     ]
    }
   ],
   "source": [
    "#Example\n",
    "#The try block will generate an exception, because p is not defined:\n",
    "\n",
    "try:\n",
    "  print(pth)\n",
    "except:\n",
    "  print(\"An exception occurred\")"
   ]
  },
  {
   "cell_type": "code",
   "execution_count": 146,
   "id": "c22223df",
   "metadata": {},
   "outputs": [
    {
     "ename": "NameError",
     "evalue": "name 'pth' is not defined",
     "output_type": "error",
     "traceback": [
      "\u001b[1;31m---------------------------------------------------------------------------\u001b[0m",
      "\u001b[1;31mNameError\u001b[0m                                 Traceback (most recent call last)",
      "\u001b[1;32m~\\AppData\\Local\\Temp/ipykernel_10344/2117740450.py\u001b[0m in \u001b[0;36m<module>\u001b[1;34m\u001b[0m\n\u001b[0;32m      4\u001b[0m \u001b[1;31m#This statement will raise an error, because pth is not defined:\u001b[0m\u001b[1;33m\u001b[0m\u001b[1;33m\u001b[0m\u001b[0m\n\u001b[0;32m      5\u001b[0m \u001b[1;33m\u001b[0m\u001b[0m\n\u001b[1;32m----> 6\u001b[1;33m \u001b[0mprint\u001b[0m\u001b[1;33m(\u001b[0m\u001b[0mpth\u001b[0m\u001b[1;33m)\u001b[0m\u001b[1;33m\u001b[0m\u001b[1;33m\u001b[0m\u001b[0m\n\u001b[0m",
      "\u001b[1;31mNameError\u001b[0m: name 'pth' is not defined"
     ]
    }
   ],
   "source": [
    "#Without the try block, the program will crash and raise an error:\n",
    "\n",
    "#Example\n",
    "#This statement will raise an error, because pth is not defined:\n",
    "\n",
    "print(pth)"
   ]
  },
  {
   "cell_type": "markdown",
   "id": "b0b90ecc",
   "metadata": {},
   "source": [
    "#### Many Exceptions\n",
    "We can define as many exception blocks as you want,<br> \n",
    "e.g. if you want to execute a special block of code for a special kind of error:\n"
   ]
  },
  {
   "cell_type": "code",
   "execution_count": 148,
   "id": "a95501cc",
   "metadata": {},
   "outputs": [
    {
     "name": "stdout",
     "output_type": "stream",
     "text": [
      "Variable pth is not defined\n"
     ]
    }
   ],
   "source": [
    "#Example\n",
    "#Print one message if the try block raises a NameError and another for other errors:\n",
    "\n",
    "try:\n",
    "  print(pth)\n",
    "except NameError:\n",
    "  print(\"Variable pth is not defined\")\n",
    "except:\n",
    "  print(\"Something else went wrong\")\n"
   ]
  },
  {
   "cell_type": "markdown",
   "id": "d8f95b68",
   "metadata": {},
   "source": [
    "#### Else\n",
    "We can use the else keyword to define a block of code to be executed if no errors were raised:"
   ]
  },
  {
   "cell_type": "code",
   "execution_count": 149,
   "id": "403d4ada",
   "metadata": {},
   "outputs": [
    {
     "name": "stdout",
     "output_type": "stream",
     "text": [
      "Hello\n",
      "Nothing went wrong\n"
     ]
    }
   ],
   "source": [
    "#Example\n",
    "#In this example, the try block does not generate any error:\n",
    "\n",
    "try:\n",
    "  print(\"Hello\")\n",
    "except:\n",
    "  print(\"Something went wrong\")\n",
    "else:\n",
    "  print(\"Nothing went wrong\")"
   ]
  },
  {
   "cell_type": "markdown",
   "id": "59633a5c",
   "metadata": {},
   "source": [
    "# Finally\n",
    "The finally block, if specified, will be executed regardless if the try block raises an error or not.\n"
   ]
  },
  {
   "cell_type": "code",
   "execution_count": 150,
   "id": "9de72581",
   "metadata": {},
   "outputs": [
    {
     "name": "stdout",
     "output_type": "stream",
     "text": [
      "Something went wrong\n",
      "The 'try except' is finished\n"
     ]
    }
   ],
   "source": [
    "#Example\n",
    "try:\n",
    "  print(pth)\n",
    "except:\n",
    "  print(\"Something went wrong\")\n",
    "finally:\n",
    "  print(\"The 'try except' is finished\")"
   ]
  },
  {
   "cell_type": "code",
   "execution_count": 152,
   "id": "9dbd3299",
   "metadata": {},
   "outputs": [
    {
     "name": "stdout",
     "output_type": "stream",
     "text": [
      "Something went wrong when writing to the file\n"
     ]
    }
   ],
   "source": [
    "try:\n",
    "  f = open(\"demofile.txt\")\n",
    "  try:\n",
    "    f.write(\"Lorum Ipsum\")\n",
    "  except:\n",
    "    print(\"Something went wrong when writing to the file\")\n",
    "  finally:\n",
    "    f.close()\n",
    "except:\n",
    "  print(\"Something went wrong when opening the file\")"
   ]
  },
  {
   "cell_type": "markdown",
   "id": "2971e4f7",
   "metadata": {},
   "source": [
    "### Raise an exception\n",
    "As a Python developer we can choose to throw an exception if a condition occurs.\n",
    "\n",
    "To throw (or raise) an exception, use the raise keyword."
   ]
  },
  {
   "cell_type": "code",
   "execution_count": 153,
   "id": "a375a61c",
   "metadata": {},
   "outputs": [
    {
     "ename": "Exception",
     "evalue": "Sorry, no numbers below zero",
     "output_type": "error",
     "traceback": [
      "\u001b[1;31m---------------------------------------------------------------------------\u001b[0m",
      "\u001b[1;31mException\u001b[0m                                 Traceback (most recent call last)",
      "\u001b[1;32m~\\AppData\\Local\\Temp/ipykernel_10344/2364371976.py\u001b[0m in \u001b[0;36m<module>\u001b[1;34m\u001b[0m\n\u001b[0;32m      5\u001b[0m \u001b[1;33m\u001b[0m\u001b[0m\n\u001b[0;32m      6\u001b[0m \u001b[1;32mif\u001b[0m \u001b[0mr\u001b[0m \u001b[1;33m<\u001b[0m \u001b[1;36m0\u001b[0m\u001b[1;33m:\u001b[0m\u001b[1;33m\u001b[0m\u001b[1;33m\u001b[0m\u001b[0m\n\u001b[1;32m----> 7\u001b[1;33m   \u001b[1;32mraise\u001b[0m \u001b[0mException\u001b[0m\u001b[1;33m(\u001b[0m\u001b[1;34m\"Sorry, no numbers below zero\"\u001b[0m\u001b[1;33m)\u001b[0m\u001b[1;33m\u001b[0m\u001b[1;33m\u001b[0m\u001b[0m\n\u001b[0m",
      "\u001b[1;31mException\u001b[0m: Sorry, no numbers below zero"
     ]
    }
   ],
   "source": [
    "#Example\n",
    "#Raise an error and stop the program if r is lower than 0:\n",
    "\n",
    "r = -1\n",
    "\n",
    "if r < 0:\n",
    "  raise Exception(\"Sorry, no numbers below zero\")"
   ]
  },
  {
   "cell_type": "markdown",
   "id": "36723340",
   "metadata": {},
   "source": [
    "<b>The raise keyword is used to raise an exception.</b>\n",
    "\n",
    "we can define what kind of error to raise, and the text to print to the user.\n"
   ]
  },
  {
   "cell_type": "code",
   "execution_count": 154,
   "id": "cb7786c2",
   "metadata": {},
   "outputs": [
    {
     "ename": "TypeError",
     "evalue": "Only integers are allowed",
     "output_type": "error",
     "traceback": [
      "\u001b[1;31m---------------------------------------------------------------------------\u001b[0m",
      "\u001b[1;31mTypeError\u001b[0m                                 Traceback (most recent call last)",
      "\u001b[1;32m~\\AppData\\Local\\Temp/ipykernel_10344/614341045.py\u001b[0m in \u001b[0;36m<module>\u001b[1;34m\u001b[0m\n\u001b[0;32m      5\u001b[0m \u001b[1;33m\u001b[0m\u001b[0m\n\u001b[0;32m      6\u001b[0m \u001b[1;32mif\u001b[0m \u001b[1;32mnot\u001b[0m \u001b[0mtype\u001b[0m\u001b[1;33m(\u001b[0m\u001b[0mstre\u001b[0m\u001b[1;33m)\u001b[0m \u001b[1;32mis\u001b[0m \u001b[0mint\u001b[0m\u001b[1;33m:\u001b[0m\u001b[1;33m\u001b[0m\u001b[1;33m\u001b[0m\u001b[0m\n\u001b[1;32m----> 7\u001b[1;33m   \u001b[1;32mraise\u001b[0m \u001b[0mTypeError\u001b[0m\u001b[1;33m(\u001b[0m\u001b[1;34m\"Only integers are allowed\"\u001b[0m\u001b[1;33m)\u001b[0m\u001b[1;33m\u001b[0m\u001b[1;33m\u001b[0m\u001b[0m\n\u001b[0m",
      "\u001b[1;31mTypeError\u001b[0m: Only integers are allowed"
     ]
    }
   ],
   "source": [
    "#Example\n",
    "#Raise a TypeError if stre is not an integer:\n",
    "\n",
    "stre = \"hello\"\n",
    "\n",
    "if not type(stre) is int:\n",
    "  raise TypeError(\"Only integers are allowed\")"
   ]
  },
  {
   "cell_type": "markdown",
   "id": "4048873a",
   "metadata": {},
   "source": [
    "# User Input\n",
    "- Python allows for user input.\n",
    "- That means we are able to ask the user for input.\n",
    "- python uses the input() method."
   ]
  },
  {
   "cell_type": "code",
   "execution_count": 155,
   "id": "48287256",
   "metadata": {},
   "outputs": [
    {
     "name": "stdout",
     "output_type": "stream",
     "text": [
      "Enter name:Dishant\n",
      "Name is: Dishant\n"
     ]
    }
   ],
   "source": [
    "name = input(\"Enter name:\")\n",
    "print(\"Name is: \" + name)"
   ]
  },
  {
   "cell_type": "markdown",
   "id": "6d9928e8",
   "metadata": {},
   "source": [
    "<pre>\n",
    "\n",
    "\n",
    "</pre>"
   ]
  },
  {
   "cell_type": "markdown",
   "id": "4c65bb77",
   "metadata": {},
   "source": [
    "# File Handling \n",
    "- Working with Files\n",
    "\n",
    "File handling is an important part of any web application.\n",
    "\n",
    "Python has several functions for creating, reading, updating, and deleting files."
   ]
  },
  {
   "cell_type": "markdown",
   "id": "3fc4735a",
   "metadata": {},
   "source": [
    "## File Open"
   ]
  },
  {
   "cell_type": "markdown",
   "id": "32b02b33",
   "metadata": {},
   "source": [
    "- <p>The key function for working with files in Python is the <b>open()</b> function.\n",
    "- The <b>open()</b> function takes two parameters; filename, and mode. i.e, open(filename,mode)\n",
    "\n",
    "There are four different methods (modes) for opening a file:\n",
    "<pre>\n",
    " \"r\" - Read   - Default value. Opens a file for reading, error if the file does not exist\n",
    " \"a\" - Append - Opens a file for appending, creates the file if it does not exist\n",
    " \"w\" - Write  - Opens a file for writing, creates the file if it does not exist\n",
    " \"x\" - Create - Creates the specified file, returns an error if the file exists\n",
    "</pre>\n",
    "In addition you can specify if the file should be handled as binary or text mode\n",
    "<pre>\n",
    " \"t\" - Text   - Default value. Text mode\n",
    " \"b\" - Binary - Binary mode (e.g. images)</pre></p>"
   ]
  },
  {
   "cell_type": "code",
   "execution_count": 171,
   "id": "749f6194",
   "metadata": {},
   "outputs": [],
   "source": [
    "#To open a file for reading it is enough to specify the name of the file:\n",
    "\n",
    "f = open(\"demofile.txt\")\n",
    "\n",
    "f = open(\"demofile.txt\", \"rt\")\n",
    "#\"r\" for read, and \"t\" for text are the default values, you do not need to specify them."
   ]
  },
  {
   "cell_type": "code",
   "execution_count": 172,
   "id": "2059b3c2",
   "metadata": {},
   "outputs": [
    {
     "name": "stdout",
     "output_type": "stream",
     "text": [
      "Hello World!.\n",
      "You are in txt file.\n"
     ]
    }
   ],
   "source": [
    "print(f.read())"
   ]
  },
  {
   "cell_type": "markdown",
   "id": "fc532dda",
   "metadata": {},
   "source": [
    "- By default the read() method returns the whole text, but you can also specify how many characters you want to return:"
   ]
  },
  {
   "cell_type": "code",
   "execution_count": 174,
   "id": "46287a32",
   "metadata": {},
   "outputs": [
    {
     "name": "stdout",
     "output_type": "stream",
     "text": [
      "Hello World!\n"
     ]
    }
   ],
   "source": [
    "#Example\n",
    "#Return the 12 first characters of the file:\n",
    "\n",
    "f = open(\"demofile.txt\", \"r\")\n",
    "print(f.read(12))"
   ]
  },
  {
   "cell_type": "markdown",
   "id": "a46e180e",
   "metadata": {},
   "source": [
    "## File Write"
   ]
  },
  {
   "cell_type": "markdown",
   "id": "12b47f31",
   "metadata": {},
   "source": [
    "### Write to an Existing File\n",
    "To write to an existing file, we must add a parameter to the open() function:\n",
    "<pre>\n",
    " \"a\" - Append - will append to the end of the file\n",
    " \"w\" - Write  - will overwrite any existing content</pre>"
   ]
  },
  {
   "cell_type": "code",
   "execution_count": 176,
   "id": "ab8e5bd2",
   "metadata": {},
   "outputs": [
    {
     "name": "stdout",
     "output_type": "stream",
     "text": [
      "Hey There this is demoFile2.\n",
      "Now the file has more content!Now the file has more content!\n"
     ]
    }
   ],
   "source": [
    "#Example\n",
    "#Open the file \"demofile2.txt\" and append content to the file:\n",
    "\n",
    "f = open(\"demofile2.txt\", \"a\")\n",
    "f.write(\"Now the file has more content!\")\n",
    "f.close()\n",
    "\n",
    "#open and read the file after the appending:\n",
    "f = open(\"demofile2.txt\", \"r\")\n",
    "print(f.read())"
   ]
  },
  {
   "cell_type": "code",
   "execution_count": 178,
   "id": "f2f3c47b",
   "metadata": {},
   "outputs": [
    {
     "name": "stdout",
     "output_type": "stream",
     "text": [
      "Woops! I have deleted the content!\n"
     ]
    }
   ],
   "source": [
    "#Example\n",
    "#Open the file \"demofile3.txt\" and overwrite the content:\n",
    "#in demofile3 AtoZ alphabets are writen\n",
    "f = open(\"demofile3.txt\", \"w\")\n",
    "f.write(\"Woops! I have deleted the content!\")\n",
    "f.close()\n",
    "\n",
    "#open and read the file after the appending:\n",
    "f = open(\"demofile3.txt\", \"r\")\n",
    "print(f.read())"
   ]
  },
  {
   "cell_type": "markdown",
   "id": "d923ebaf",
   "metadata": {},
   "source": [
    "### Create a New File\n",
    "To create a new file in Python, use the open() method, with one of the following parameters:\n",
    "<pre>\n",
    "\"x\" - Create - will create a file, returns an error if the file exist\n",
    "\"a\" - Append - will create a file if the specified file does not exist\n",
    "\"w\" - Write  - will create a file if the specified file does not exist\n",
    "</pre>\n"
   ]
  },
  {
   "cell_type": "code",
   "execution_count": 186,
   "id": "81f042bb",
   "metadata": {},
   "outputs": [],
   "source": [
    "#Example\n",
    "#Create a file called \"myfile.txt\":\n",
    "\n",
    "f = open(\"myfile.txt\", \"x\")\n",
    "\n",
    "#Result: a new empty file is created!\n",
    "f.close()"
   ]
  },
  {
   "cell_type": "code",
   "execution_count": 187,
   "id": "b9cdbb52",
   "metadata": {},
   "outputs": [
    {
     "name": "stdout",
     "output_type": "stream",
     "text": [
      "\n"
     ]
    }
   ],
   "source": [
    "f = open(\"myfile.txt\",\"r\")\n",
    "print(f.read())"
   ]
  },
  {
   "cell_type": "code",
   "execution_count": 188,
   "id": "a4b7813a",
   "metadata": {},
   "outputs": [],
   "source": [
    "#Example\n",
    "#Create a new file if it does not exist:\n",
    "f = open(\"myfile.txt\", \"w\")"
   ]
  },
  {
   "cell_type": "markdown",
   "id": "bd6533b0",
   "metadata": {},
   "source": [
    "## Delete File\n",
    "To delete a file, we must import the OS module, and run its os.remove() function:"
   ]
  },
  {
   "cell_type": "code",
   "execution_count": 189,
   "id": "58bf85ba",
   "metadata": {},
   "outputs": [],
   "source": [
    "#Example\n",
    "#Remove the file \"demofile3.txt\":\n",
    "\n",
    "import os\n",
    "os.remove(\"demofile3.txt\")"
   ]
  },
  {
   "cell_type": "markdown",
   "id": "59f7698f",
   "metadata": {},
   "source": [
    "#### Check if File exist:\n",
    "To avoid getting an error, we might want to check if the file exists before you try to delete it:"
   ]
  },
  {
   "cell_type": "code",
   "execution_count": 190,
   "id": "f0385f29",
   "metadata": {},
   "outputs": [
    {
     "name": "stdout",
     "output_type": "stream",
     "text": [
      "The file does not exist\n"
     ]
    }
   ],
   "source": [
    "#Example\n",
    "#Check if file exists, then delete it:\n",
    "\n",
    "import os\n",
    "if os.path.exists(\"demofile3.txt\"):\n",
    "  os.remove(\"demofile3.txt\")\n",
    "else:\n",
    "  print(\"The file does not exist\")"
   ]
  },
  {
   "cell_type": "markdown",
   "id": "7c4ecfad",
   "metadata": {},
   "source": [
    "### Delete Folder\n",
    "To delete an entire folder, use the os.rmdir() method:\n",
    "\n",
    "<b>Note:</b> You can only remove empty folders.\n"
   ]
  },
  {
   "cell_type": "code",
   "execution_count": 192,
   "id": "409062cf",
   "metadata": {
    "scrolled": true
   },
   "outputs": [],
   "source": [
    "#Example\n",
    "#Remove the folder \"myfolder\":\n",
    "\n",
    "import os\n",
    "os.rmdir(\"folder Name that you want to remove\")"
   ]
  },
  {
   "cell_type": "markdown",
   "id": "2f6f3955",
   "metadata": {},
   "source": [
    "# NumPy\n",
    "- NumPy is a Python library.\n",
    "- NumPy stands for Numerical Python.\n",
    "- NumPy is used for working with arrays.\n",
    "- It also has functions for working in domain of linear algebra, fourier transform, and matrices."
   ]
  },
  {
   "cell_type": "code",
   "execution_count": 5,
   "id": "e0d1120a",
   "metadata": {},
   "outputs": [
    {
     "name": "stdout",
     "output_type": "stream",
     "text": [
      "[15 28 34 49 51]\n"
     ]
    }
   ],
   "source": [
    "#Example\n",
    "import numpy\n",
    "\n",
    "arr = numpy.array([15, 28, 34, 49, 51])\n",
    "\n",
    "print(arr)"
   ]
  },
  {
   "cell_type": "code",
   "execution_count": 7,
   "id": "aa88d2a2",
   "metadata": {},
   "outputs": [
    {
     "name": "stdout",
     "output_type": "stream",
     "text": [
      "[15 28 34 49 51]\n"
     ]
    }
   ],
   "source": [
    "#Example\n",
    "#NumPy package can also referred to as np instead of numpy to easy to use\n",
    "import numpy as np\n",
    "\n",
    "arr = np.array([15, 28, 34, 49, 51])\n",
    "\n",
    "print(arr)\n"
   ]
  },
  {
   "cell_type": "code",
   "execution_count": 8,
   "id": "6491224b",
   "metadata": {},
   "outputs": [
    {
     "name": "stdout",
     "output_type": "stream",
     "text": [
      "1.20.3\n"
     ]
    }
   ],
   "source": [
    "print(np.__version__)"
   ]
  },
  {
   "cell_type": "markdown",
   "id": "db9b80b8",
   "metadata": {},
   "source": [
    "## Create a NumPy ndarray Object"
   ]
  },
  {
   "cell_type": "code",
   "execution_count": 11,
   "id": "6a6e3064",
   "metadata": {},
   "outputs": [
    {
     "name": "stdout",
     "output_type": "stream",
     "text": [
      "[1 2 3 4 5]\n",
      "<class 'numpy.ndarray'>\n"
     ]
    }
   ],
   "source": [
    "#We can create a NumPy ndarray object by using the array() function.\n",
    "arr = np.array([1, 2, 3, 4, 5])\n",
    "\n",
    "print(arr)\n",
    "\n",
    "print(type(arr))"
   ]
  },
  {
   "cell_type": "markdown",
   "id": "e477fd4c",
   "metadata": {},
   "source": [
    "we can pass a list, tuple or any array-like object into the array() method, and it will be converted into an ndarray."
   ]
  },
  {
   "cell_type": "code",
   "execution_count": 10,
   "id": "cd068c64",
   "metadata": {},
   "outputs": [
    {
     "name": "stdout",
     "output_type": "stream",
     "text": [
      "[1 2 3 4 5]\n"
     ]
    }
   ],
   "source": [
    "arr1 = np.array((1, 2, 3, 4, 5))\n",
    "\n",
    "print(arr1)"
   ]
  },
  {
   "cell_type": "markdown",
   "id": "5db2cb47",
   "metadata": {},
   "source": [
    "## Dimensions in Arrays"
   ]
  },
  {
   "cell_type": "code",
   "execution_count": 20,
   "id": "5875c043",
   "metadata": {},
   "outputs": [
    {
     "name": "stdout",
     "output_type": "stream",
     "text": [
      "0D: 42 \n",
      "\n",
      "1D: [1 2 3 4 5] \n",
      "\n",
      "2D: [[1 2 3]\n",
      " [4 5 6]] \n",
      "\n",
      "3D: [[[1 2 3]\n",
      "  [4 5 6]]\n",
      "\n",
      " [[1 2 3]\n",
      "  [4 5 6]]] \n",
      "\n",
      "dimention of 3d: 3\n"
     ]
    }
   ],
   "source": [
    "import numpy as np\n",
    "\n",
    "d0 = np.array(42)\n",
    "d1 = np.array([1, 2, 3, 4, 5])\n",
    "d2 = np.array([[1, 2, 3], [4, 5, 6]])\n",
    "d3 = np.array([[[1, 2, 3], [4, 5, 6]], [[1, 2, 3], [4, 5, 6]]])\n",
    "\n",
    "print(\"0D:\",d0,\"\\n\")\n",
    "print(\"1D:\",d1,\"\\n\")\n",
    "print(\"2D:\",d2,\"\\n\")\n",
    "print(\"3D:\",d3,\"\\n\")\n",
    "print(\"dimention of 3d:\",d3.ndim)#ndim return dimention of array"
   ]
  },
  {
   "cell_type": "markdown",
   "id": "65ffbdaf",
   "metadata": {},
   "source": [
    "### Access Array Elements"
   ]
  },
  {
   "cell_type": "code",
   "execution_count": 23,
   "id": "2a673bd9",
   "metadata": {},
   "outputs": [
    {
     "name": "stdout",
     "output_type": "stream",
     "text": [
      "12\n",
      "58\n"
     ]
    }
   ],
   "source": [
    "arr = np.array([12, 17, 26, 32])\n",
    "\n",
    "print(arr[0])\n",
    "print(arr[2] + arr[3])\n"
   ]
  },
  {
   "cell_type": "code",
   "execution_count": null,
   "id": "54b8d8d9",
   "metadata": {},
   "outputs": [],
   "source": [
    "#Access 2-D Arrays"
   ]
  },
  {
   "cell_type": "code",
   "execution_count": 29,
   "id": "214e680f",
   "metadata": {},
   "outputs": [
    {
     "name": "stdout",
     "output_type": "stream",
     "text": [
      "4nd element on 1st row:  44\n",
      "2th element on 2nd row:  76\n"
     ]
    }
   ],
   "source": [
    "arr = np.array([[12,22,33,44,56], [64,76,88,79,120]])\n",
    "\n",
    "print('4nd element on 1st row: ', arr[0, 3])\n",
    "print('2th element on 2nd row: ', arr[1, 1])"
   ]
  },
  {
   "cell_type": "markdown",
   "id": "98b42b36",
   "metadata": {},
   "source": [
    "### Slicing arrays"
   ]
  },
  {
   "cell_type": "code",
   "execution_count": 30,
   "id": "b0cb928b",
   "metadata": {},
   "outputs": [
    {
     "name": "stdout",
     "output_type": "stream",
     "text": [
      "[32 53 44 95]\n"
     ]
    }
   ],
   "source": [
    "arr = np.array([21, 32, 53, 44, 95, 46, 17])\n",
    "\n",
    "print(arr[1:5])"
   ]
  },
  {
   "cell_type": "code",
   "execution_count": 32,
   "id": "d141de66",
   "metadata": {},
   "outputs": [
    {
     "name": "stdout",
     "output_type": "stream",
     "text": [
      "[42 48 19]\n"
     ]
    }
   ],
   "source": [
    "#2D slicing\n",
    "arr = np.array([[12, 24, 36, 42, 53], [64, 42, 48, 19, 15]])\n",
    "\n",
    "print(arr[1, 1:4])"
   ]
  },
  {
   "cell_type": "markdown",
   "id": "2bad489c",
   "metadata": {},
   "source": [
    "### Iterating Arrays"
   ]
  },
  {
   "cell_type": "code",
   "execution_count": 34,
   "id": "f453d73e",
   "metadata": {},
   "outputs": [
    {
     "name": "stdout",
     "output_type": "stream",
     "text": [
      "11\n",
      "22\n",
      "33\n",
      "44\n",
      "55\n"
     ]
    }
   ],
   "source": [
    "#Example\n",
    "#Iterate the elements of the 1-D array:\n",
    "\n",
    "import numpy as np\n",
    "\n",
    "arr = np.array([11, 22, 33, 44, 55])\n",
    "\n",
    "for x in arr:\n",
    "  print(x)"
   ]
  },
  {
   "cell_type": "code",
   "execution_count": 36,
   "id": "829130db",
   "metadata": {},
   "outputs": [
    {
     "name": "stdout",
     "output_type": "stream",
     "text": [
      "[11 22 33]\n",
      "[44 55 66]\n"
     ]
    }
   ],
   "source": [
    "#Iterating 2-D Arrays\n",
    "arr = np.array([[11, 22, 33], [44, 55, 66]])\n",
    "\n",
    "for x in arr:\n",
    "  print(x)"
   ]
  },
  {
   "cell_type": "markdown",
   "id": "383cd4fa",
   "metadata": {},
   "source": [
    "### Joining NumPy Arrays"
   ]
  },
  {
   "cell_type": "code",
   "execution_count": 38,
   "id": "f239498c",
   "metadata": {},
   "outputs": [
    {
     "name": "stdout",
     "output_type": "stream",
     "text": [
      "[11 22 33 44 55 66]\n"
     ]
    }
   ],
   "source": [
    "#Example\n",
    "#Join 1D two arrays\n",
    "\n",
    "ar1 = np.array([11, 22, 33])\n",
    "\n",
    "ar2 = np.array([44, 55, 66])\n",
    "\n",
    "ar = np.concatenate((ar1, ar2))\n",
    "\n",
    "print(ar)"
   ]
  },
  {
   "cell_type": "code",
   "execution_count": 41,
   "id": "aa7dc757",
   "metadata": {},
   "outputs": [
    {
     "name": "stdout",
     "output_type": "stream",
     "text": [
      "[[11 22 55 66]\n",
      " [33 44 77 88]]\n"
     ]
    }
   ],
   "source": [
    "#Join 2-D arrays along rows (axis=1):\n",
    "ar1 = np.array([[11, 22], [33, 44]])\n",
    "\n",
    "ar2 = np.array([[55, 66], [77, 88]])\n",
    "\n",
    "ar = np.concatenate((ar1, ar2), axis=1)\n",
    "\n",
    "print(ar)"
   ]
  },
  {
   "cell_type": "markdown",
   "id": "ed5796d2",
   "metadata": {},
   "source": [
    "### Splitting NumPy Arrays"
   ]
  },
  {
   "cell_type": "code",
   "execution_count": 45,
   "id": "b63a5bfd",
   "metadata": {},
   "outputs": [
    {
     "name": "stdout",
     "output_type": "stream",
     "text": [
      "[array([1, 2, 3]), array([4, 5, 6]), array([7, 8]), array([ 9, 10])]\n"
     ]
    }
   ],
   "source": [
    "#Example\n",
    "#Split the array in 4 parts:\n",
    "\n",
    "import numpy as np\n",
    "\n",
    "arr = np.array([1, 2, 3, 4, 5, 6, 7 , 8, 9, 10])\n",
    "\n",
    "newarr = np.array_split(arr, 4)\n",
    "\n",
    "print(newarr)"
   ]
  },
  {
   "cell_type": "markdown",
   "id": "7be63d20",
   "metadata": {},
   "source": [
    "### Searching Arrays\n",
    "To search an array, use the where() method."
   ]
  },
  {
   "cell_type": "code",
   "execution_count": 47,
   "id": "316639c7",
   "metadata": {},
   "outputs": [
    {
     "name": "stdout",
     "output_type": "stream",
     "text": [
      "(array([3, 5, 7, 9], dtype=int64),)\n"
     ]
    }
   ],
   "source": [
    "#Example\n",
    "\n",
    "ar = np.array([1, 2, 3, 4, 5, 4, 7, 4, 9, 4])\n",
    "\n",
    "p = np.where(ar == 4)\n",
    "\n",
    "print(p)"
   ]
  },
  {
   "cell_type": "markdown",
   "id": "0e09cf8d",
   "metadata": {},
   "source": [
    "#### Search Sorted"
   ]
  },
  {
   "cell_type": "code",
   "execution_count": 54,
   "id": "24dbf3ff",
   "metadata": {},
   "outputs": [
    {
     "name": "stdout",
     "output_type": "stream",
     "text": [
      "2\n",
      "3\n"
     ]
    }
   ],
   "source": [
    "arr = np.array([5, 7, 9, 11])\n",
    "\n",
    "x = np.searchsorted(arr, 9)\n",
    "\n",
    "print(x)\n",
    "\n",
    "\n",
    "arr = np.array([5, 7, 9, 11])\n",
    "\n",
    "x = np.searchsorted(arr, 11)\n",
    "\n",
    "print(x)"
   ]
  },
  {
   "cell_type": "markdown",
   "id": "a1a430e7",
   "metadata": {},
   "source": [
    "### Sorting Arrays"
   ]
  },
  {
   "cell_type": "code",
   "execution_count": 56,
   "id": "4609261a",
   "metadata": {},
   "outputs": [
    {
     "name": "stdout",
     "output_type": "stream",
     "text": [
      "[10 22 31 33]\n"
     ]
    }
   ],
   "source": [
    "#Example Sort the array:\n",
    "\n",
    "import numpy as np\n",
    "\n",
    "arr = np.array([33, 22, 10, 31])\n",
    "\n",
    "print(np.sort(arr))"
   ]
  },
  {
   "cell_type": "code",
   "execution_count": 59,
   "id": "5b092ebd",
   "metadata": {},
   "outputs": [
    {
     "name": "stdout",
     "output_type": "stream",
     "text": [
      "['blueberry' 'coconut' 'dragonfruit']\n"
     ]
    }
   ],
   "source": [
    "#Example Sort the array alphabetically:\n",
    "\n",
    "import numpy as np\n",
    "\n",
    "arr = np.array(['coconut', 'dragonfruit', 'blueberry'])\n",
    "\n",
    "print(np.sort(arr))"
   ]
  },
  {
   "cell_type": "code",
   "execution_count": 61,
   "id": "323c21ba",
   "metadata": {},
   "outputs": [
    {
     "name": "stdout",
     "output_type": "stream",
     "text": [
      "[[14 22 33]\n",
      " [10 21 55]]\n"
     ]
    }
   ],
   "source": [
    "#Sort a 2-D array:\n",
    "#Example\n",
    "\n",
    "arr = np.array([[33, 22, 14], [55, 10, 21]])\n",
    "\n",
    "print(np.sort(arr))"
   ]
  },
  {
   "cell_type": "markdown",
   "id": "7be08ed1",
   "metadata": {},
   "source": [
    "# Pandas \n",
    "\n",
    "- Pandas is a Python library used for working with data sets.\n",
    "- It has functions for analyzing, cleaning, exploring, and manipulating data."
   ]
  },
  {
   "cell_type": "code",
   "execution_count": 64,
   "id": "db27fd65",
   "metadata": {},
   "outputs": [
    {
     "name": "stdout",
     "output_type": "stream",
     "text": [
      "      cars  passings\n",
      "0    Tesla         4\n",
      "1  Bugatti         2\n",
      "2   Jaguar         4\n"
     ]
    }
   ],
   "source": [
    "#Example\n",
    "import pandas\n",
    "\n",
    "mydataset = {\n",
    "  'cars': [\"Tesla\", \"Bugatti\", \"Jaguar\"],\n",
    "  'passings': [4, 2, 4]\n",
    "}\n",
    "\n",
    "myvar = pandas.DataFrame(mydataset)\n",
    "\n",
    "print(myvar)"
   ]
  },
  {
   "cell_type": "code",
   "execution_count": 66,
   "id": "fe682372",
   "metadata": {},
   "outputs": [
    {
     "name": "stdout",
     "output_type": "stream",
     "text": [
      "      cars  passings\n",
      "0    Tesla         4\n",
      "1  Bugatti         2\n",
      "2   Jaguar         4\n"
     ]
    }
   ],
   "source": [
    "#Pandas package can be referred to as pd instead of pandas.\n",
    "import pandas as pd\n",
    "\n",
    "mydataset = {\n",
    "  'cars': [\"Tesla\", \"Bugatti\", \"Jaguar\"],\n",
    "  'passings': [4, 2, 4]\n",
    "}\n",
    "\n",
    "myvar = pd.DataFrame(mydataset)\n",
    "\n",
    "print(myvar)"
   ]
  },
  {
   "cell_type": "markdown",
   "id": "e5af8163",
   "metadata": {},
   "source": [
    "### Series\n",
    "- A Pandas Series is like a column in a table.\n",
    "- It is a one-dimensional array holding data of any type."
   ]
  },
  {
   "cell_type": "code",
   "execution_count": 68,
   "id": "4ec60fd8",
   "metadata": {},
   "outputs": [
    {
     "name": "stdout",
     "output_type": "stream",
     "text": [
      "0    16\n",
      "1     6\n",
      "2     1\n",
      "dtype: int64\n"
     ]
    }
   ],
   "source": [
    "#Create a simple Pandas Series from a list:\n",
    "#Example\n",
    "\n",
    "s = [16, 6, 1]\n",
    "\n",
    "myvar = pd.Series(s)\n",
    "\n",
    "print(myvar)"
   ]
  },
  {
   "cell_type": "markdown",
   "id": "6f4f854f",
   "metadata": {},
   "source": [
    "\n",
    "### DataFrames"
   ]
  },
  {
   "cell_type": "code",
   "execution_count": 70,
   "id": "84c93c14",
   "metadata": {},
   "outputs": [
    {
     "name": "stdout",
     "output_type": "stream",
     "text": [
      "  months  yeaar\n",
      "0    Jan   2020\n",
      "1    Feb   2021\n",
      "2    Mar   2022\n"
     ]
    }
   ],
   "source": [
    "#Creating a simple Pandas DataFrame:\n",
    "\n",
    "data = {\n",
    "  \"months\": ['Jan', 'Feb','Mar'],\n",
    "  \"yeaar\": [2020, 2021, 2022]\n",
    "}\n",
    "\n",
    "#load data into a DataFrame object:\n",
    "df = pd.DataFrame(data)\n",
    "\n",
    "print(df) "
   ]
  },
  {
   "cell_type": "markdown",
   "id": "276668c5",
   "metadata": {},
   "source": [
    "# Matplotlib \n",
    "- It is a graph plotting library in python, as a visualization utility."
   ]
  },
  {
   "cell_type": "code",
   "execution_count": 71,
   "id": "549cb9ee",
   "metadata": {},
   "outputs": [],
   "source": [
    "import matplotlib"
   ]
  },
  {
   "cell_type": "markdown",
   "id": "7cd8baf2",
   "metadata": {},
   "source": [
    "### Pyplot"
   ]
  },
  {
   "cell_type": "code",
   "execution_count": 74,
   "id": "25b11844",
   "metadata": {},
   "outputs": [],
   "source": [
    "import matplotlib.pyplot as plt"
   ]
  },
  {
   "cell_type": "code",
   "execution_count": 79,
   "id": "600eaed2",
   "metadata": {},
   "outputs": [
    {
     "name": "stdout",
     "output_type": "stream",
     "text": [
      "Plotting With Line \n",
      "\n"
     ]
    },
    {
     "data": {
      "image/png": "[encoded data removed]",
      "text/plain": [
       "<Figure size 432x288 with 1 Axes>"
      ]
     },
     "metadata": {
      "needs_background": "light"
     },
     "output_type": "display_data"
    },
    {
     "name": "stdout",
     "output_type": "stream",
     "text": [
      "Plotting Without Line \n",
      "\n"
     ]
    },
    {
     "data": {
      "image/png": "[encoded data removed]",
      "text/plain": [
       "<Figure size 432x288 with 1 Axes>"
      ]
     },
     "metadata": {
      "needs_background": "light"
     },
     "output_type": "display_data"
    }
   ],
   "source": [
    "#Draw a line in a diagram\n",
    "\n",
    "import numpy as np\n",
    "\n",
    "xpoints = np.array([0, 10])\n",
    "ypoints = np.array([0, 500])\n",
    "print(\"Plotting With Line\",\"\\n\")\n",
    "plt.plot(xpoints, ypoints)\n",
    "plt.show()\n",
    "print(\"Plotting Without Line\",\"\\n\")\n",
    "plt.plot(xpoints, ypoints, 'o')\n",
    "plt.show()"
   ]
  },
  {
   "cell_type": "markdown",
   "id": "47407037",
   "metadata": {},
   "source": [
    "### Multiple Points\n",
    "we can plot as many points as we like, just make sure we have the same number of points in both axis.\n"
   ]
  },
  {
   "cell_type": "code",
   "execution_count": 89,
   "id": "37e1a346",
   "metadata": {},
   "outputs": [
    {
     "data": {
      "image/png": "[encoded data removed]",
      "text/plain": [
       "<Figure size 432x288 with 1 Axes>"
      ]
     },
     "metadata": {
      "needs_background": "light"
     },
     "output_type": "display_data"
    }
   ],
   "source": [
    "#Draw a line in a diagram with multiple points:\n",
    "\n",
    "xpoints = np.array([10, 12, 16, 18])\n",
    "ypoints = np.array([15, 18, 16, 20])\n",
    "\n",
    "plt.plot(xpoints, ypoints)\n",
    "#font properties for the title and labels\n",
    "font1 = {'family':'serif','color':'blue','size':20}\n",
    "font2 = {'family':'serif','color':'darkred','size':15}\n",
    "#lables\n",
    "plt.xlabel(\"X - axis\",fontdict = font2)\n",
    "plt.ylabel(\"Y - axis\",fontdict = font2)\n",
    "plt.title(\"Example\",fontdict = font1)\n",
    "plt.show()"
   ]
  },
  {
   "cell_type": "markdown",
   "id": "6a9d3865",
   "metadata": {},
   "source": [
    "### Create Histogram"
   ]
  },
  {
   "cell_type": "code",
   "execution_count": 90,
   "id": "ce1e8e91",
   "metadata": {},
   "outputs": [
    {
     "data": {
      "image/png": "[encoded data removed]",
      "text/plain": [
       "<Figure size 432x288 with 1 Axes>"
      ]
     },
     "metadata": {
      "needs_background": "light"
     },
     "output_type": "display_data"
    }
   ],
   "source": [
    "x = np.random.normal(170, 10, 250)\n",
    "\n",
    "plt.hist(x)\n",
    "plt.show() "
   ]
  },
  {
   "cell_type": "markdown",
   "id": "ea375f8f",
   "metadata": {},
   "source": [
    "### Creating Pie Charts"
   ]
  },
  {
   "cell_type": "code",
   "execution_count": 99,
   "id": "097b9a9d",
   "metadata": {},
   "outputs": [
    {
     "data": {
      "image/png": "[encoded data removed]",
      "text/plain": [
       "<Figure size 432x288 with 1 Axes>"
      ]
     },
     "metadata": {},
     "output_type": "display_data"
    }
   ],
   "source": [
    "y = np.array([35, 25, 25, 15])\n",
    "mylabels = [\"Tesla\", \"BMW\", \"Ford\", \"Mercedes\"]\n",
    "\n",
    "plt.pie(y,labels = mylabels)\n",
    "plt.show() "
   ]
  },
  {
   "cell_type": "markdown",
   "id": "0cf7468c",
   "metadata": {},
   "source": [
    "# PyTorch "
   ]
  },
  {
   "cell_type": "markdown",
   "id": "c5f43bff",
   "metadata": {},
   "source": [
    "<pre><b>Features</b>\n",
    "The major features of PyTorch are mentioned below −\n",
    "\n",
    "Easy Interface − PyTorch offers easy to use API; hence it is considered to be very simple to operate and runs on Python. The code execution in this framework is quite easy.\n",
    "\n",
    "Python usage − This library is considered to be Pythonic which smoothly integrates with the Python data science stack. Thus, it can leverage all the services and functionalities offered by the Python environment.\n",
    "\n",
    "Computational graphs − PyTorch provides an excellent platform which offers dynamic computational graphs. Thus a user can change them during runtime. This is highly useful when a developer has no idea of how much memory is required for creating a neural network model.\n",
    "\n",
    "PyTorch is known for having three levels of abstraction as given below −\n",
    "\n",
    "Tensor − Imperative n-dimensional array which runs on GPU.\n",
    "\n",
    "Variable − Node in computational graph. This stores data and gradient.\n",
    "\n",
    "Module − Neural network layer which will store state or learnable weights.</pre>"
   ]
  },
  {
   "cell_type": "markdown",
   "id": "1314292d",
   "metadata": {},
   "source": [
    "## Vectors\n",
    "Vector is considered to be array of numbers which is either continuous or discrete and the space which consists of vectors is called as vector space. The space dimensions of vectors can be either finite or infinite but it has been observed that machine learning and data science problems deal with fixed length vectors."
   ]
  },
  {
   "cell_type": "code",
   "execution_count": 1,
   "id": "a81ad54e",
   "metadata": {},
   "outputs": [
    {
     "data": {
      "text/plain": [
       "torch.Size([6])"
      ]
     },
     "execution_count": 1,
     "metadata": {},
     "output_type": "execute_result"
    }
   ],
   "source": [
    "#The vector representation\n",
    "import torch\n",
    "\n",
    "temp = torch.FloatTensor([23,24,24.5,26,27.2,23.0])\n",
    "temp.size()"
   ]
  },
  {
   "cell_type": "markdown",
   "id": "cb6dd2e2",
   "metadata": {},
   "source": [
    "## Scalars\n",
    "Scalars are termed to have zero dimensions containing only one value."
   ]
  },
  {
   "cell_type": "code",
   "execution_count": 2,
   "id": "0930a488",
   "metadata": {},
   "outputs": [
    {
     "data": {
      "text/plain": [
       "torch.Size([10])"
      ]
     },
     "execution_count": 2,
     "metadata": {},
     "output_type": "execute_result"
    }
   ],
   "source": [
    "x = torch.rand(10)\n",
    "x.size()"
   ]
  },
  {
   "cell_type": "markdown",
   "id": "aeb228ee",
   "metadata": {},
   "source": [
    "### linear regression graph "
   ]
  },
  {
   "cell_type": "code",
   "execution_count": 4,
   "id": "4a998af8",
   "metadata": {},
   "outputs": [],
   "source": [
    "import numpy as np\n",
    "import matplotlib.pyplot as plt\n",
    "from matplotlib.animation import FuncAnimation\n",
    "import seaborn as sns\n",
    "import pandas as pd\n",
    "%matplotlib inline\n",
    "\n",
    "sns.set_style(style = 'whitegrid')\n",
    "plt.rcParams[\"patch.force_edgecolor\"] = True\n"
   ]
  },
  {
   "cell_type": "code",
   "execution_count": 5,
   "id": "972a207c",
   "metadata": {},
   "outputs": [
    {
     "data": {
      "text/plain": [
       "<seaborn.axisgrid.FacetGrid at 0x1bba468f808>"
      ]
     },
     "execution_count": 5,
     "metadata": {},
     "output_type": "execute_result"
    },
    {
     "data": {
      "image/png": "[encoded data removed]",
      "text/plain": [
       "<Figure size 360x360 with 1 Axes>"
      ]
     },
     "metadata": {},
     "output_type": "display_data"
    }
   ],
   "source": [
    "m = 2 # slope\n",
    "c = 3 # interceptm = 2 # slope\n",
    "c = 3 # intercept\n",
    "x = np.random.rand(256)\n",
    "\n",
    "noise = np.random.randn(256) / 4\n",
    "\n",
    "y = x * m + c + noise\n",
    "\n",
    "df = pd.DataFrame()\n",
    "df['x'] = x\n",
    "df['y'] = y\n",
    "\n",
    "sns.lmplot(x ='x', y ='y', data = df)"
   ]
  },
  {
   "cell_type": "markdown",
   "id": "24191886",
   "metadata": {},
   "source": [
    "### Implement linear regression with PyTorch libraries "
   ]
  },
  {
   "cell_type": "code",
   "execution_count": 47,
   "id": "41ae452c",
   "metadata": {
    "scrolled": true
   },
   "outputs": [
    {
     "data": {
      "image/png": "[encoded data removed]",
      "text/plain": [
       "<Figure size 864x288 with 1 Axes>"
      ]
     },
     "metadata": {},
     "output_type": "display_data"
    }
   ],
   "source": [
    "import torch\n",
    "import torch.nn as nn\n",
    "from torch.autograd import Variable\n",
    "x_train = x.reshape(-1, 1).astype('float32')\n",
    "y_train = y.reshape(-1, 1).astype('float32')\n",
    "\n",
    "class LinearRegressionModel(nn.Module):\n",
    "    def __init__(self, input_dime, output_dime):\n",
    "        super(LinearRegressionModel, self).__init__()\n",
    "        self.linear = nn.Linear(input_dime, output_dime)\n",
    "\n",
    "    def forward(self, x):\n",
    "        out = self.linear(x)\n",
    "        return out\n",
    "\n",
    "input_dime = x_train.shape[1]\n",
    "output_dime = y_train.shape[1]\n",
    "\n",
    "input_dime\n",
    "\n",
    "model = LinearRegressionModel(input_dime, output_dime)\n",
    "criterion = nn.MSELoss()\n",
    "[w, b] = model.parameters()\n",
    "\n",
    "def get_param_values():\n",
    "    return w.data[0][0], b.data[0]\n",
    "\n",
    "def plot_current_fit(title = \"\"):\n",
    "    plt.figure(figsize = (12,4))\n",
    "    plt.title(title)\n",
    "    plt.scatter(x, y, s = 8)\n",
    "    w1 =w.data[0][0].clone().detach()\n",
    "    b1 = b.data[0]\n",
    "    x1 = torch.tensor(np.array([0., 1.]),dtype=float)\n",
    "    y1 = x1 * w1 + b1\n",
    "    plt.plot(x1, y1, 'r', label = 'Current Fit ({:.3f}, {:.3f})'.format(w1, b1))\n",
    "    plt.xlabel('x (input)')\n",
    "    plt.ylabel('y (target)')\n",
    "    plt.legend()\n",
    "    plt.show()\n",
    "    \n",
    "plot_current_fit(\"Before training\")\n"
   ]
  },
  {
   "cell_type": "markdown",
   "id": "bce600e0",
   "metadata": {},
   "source": [
    "### QUICKSTART for Pytorch\n",
    "Resource:<br>\n",
    "<a herf=\"https://pytorch.org/tutorials/beginner/basics/quickstart_tutorial.html\">Pytorch basics to quick start</a>"
   ]
  },
  {
   "cell_type": "code",
   "execution_count": null,
   "id": "a08d0a7c",
   "metadata": {},
   "outputs": [],
   "source": []
  },
  {
   "cell_type": "code",
   "execution_count": null,
   "id": "1096df38",
   "metadata": {},
   "outputs": [],
   "source": []
  },
  {
   "cell_type": "markdown",
   "id": "340afa7e",
   "metadata": {},
   "source": [
    "<center><h1 style:text-align:\"center\"}> The End OF Notebook </h1></center>"
   ]
  }
 ],
 "metadata": {
  "kernelspec": {
   "display_name": "Python 3 (ipykernel)",
   "language": "python",
   "name": "python3"
  },
  "language_info": {
   "codemirror_mode": {
    "name": "ipython",
    "version": 3
   },
   "file_extension": ".py",
   "mimetype": "text/x-python",
   "name": "python",
   "nbconvert_exporter": "python",
   "pygments_lexer": "ipython3",
   "version": "3.7.12"
  }
 },
 "nbformat": 4,
 "nbformat_minor": 5
}
